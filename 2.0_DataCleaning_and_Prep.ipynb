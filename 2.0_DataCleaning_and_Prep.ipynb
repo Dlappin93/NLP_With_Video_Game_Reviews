{
 "cells": [
  {
   "cell_type": "markdown",
   "id": "0efce392",
   "metadata": {},
   "source": [
    "<a id='ReturntoTop'></a>\n",
    "\n",
    "\n",
    "<header>\n",
    "  <div style=\"display:flex; align-items:center;\">\n",
    "    <div style=\"flex-grow:1;\">\n",
    "      <h1>NLP with Steam Video Game Reviews</h1>\n",
    "      <h3>Notebook 2 - Data Cleaning and Prep</h3>\n",
    "      <p>Author: David Lappin | Date: 5/12/2023 - */**/2023 </p>\n",
    "    </div>\n",
    "    <img src=\"bannerphoto/banner.jpg\" alt=\"your-image-description\" style=\"height:225px; margin-left:50px; border: 8px solid black;border-radius: 5%;\">\n",
    "  </div>\n",
    "</header>"
   ]
  },
  {
   "cell_type": "markdown",
   "id": "ccd8561b",
   "metadata": {},
   "source": [
    "------------------------------------------------------------------------------------------------------------------------------"
   ]
  },
  {
   "cell_type": "markdown",
   "id": "91443a5c",
   "metadata": {},
   "source": [
    "# Introduction and Purpose"
   ]
  },
  {
   "cell_type": "markdown",
   "id": "48089cab",
   "metadata": {},
   "source": [
    "\n"
   ]
  },
  {
   "cell_type": "markdown",
   "id": "277da2b3",
   "metadata": {},
   "source": [
    "# Table of Contents"
   ]
  },
  {
   "cell_type": "markdown",
   "id": "40c1c188",
   "metadata": {},
   "source": [
    "[Packages Import](#1)\n",
    "\n",
    "[Data Import](#2)\n",
    "\n",
    "[Blank](#3)\n",
    "\n",
    "[Blank](#4)\n",
    "\n",
    "[Blank](#5)\n"
   ]
  },
  {
   "cell_type": "markdown",
   "id": "106e26da",
   "metadata": {},
   "source": [
    "# Packages Import\n",
    "<a id='1'></a>\n",
    "[Return to Top](#ReturntoTop)"
   ]
  },
  {
   "cell_type": "markdown",
   "id": "07cf3a76",
   "metadata": {},
   "source": [
    "**Matplotlib** - Used as needed for basic visualizations\n",
    "\n",
    "**Numpy** - Supports large, multi-dimensional arrays and matrices,and contains a large collection of high-level mathematical functions to operate on these arrays.\n",
    "\n",
    "**Pandas** - Additional data manipulation and analysis\n",
    "\n",
    "**sklearn** - machine learning library\n",
    "\n",
    "**seaborn** - graphing and visualization package"
   ]
  },
  {
   "cell_type": "code",
   "execution_count": 1,
   "id": "39df84fc",
   "metadata": {},
   "outputs": [],
   "source": [
    "import matplotlib.pyplot as plt\n",
    "import numpy as np\n",
    "import pandas as pd\n",
    "import seaborn as sns\n",
    "import sklearn.metrics as sk_metrics"
   ]
  },
  {
   "cell_type": "markdown",
   "id": "f1f2512e",
   "metadata": {},
   "source": [
    "# Data Import\n",
    "[Return to Top](#ReturntoTop)\n",
    "<a id='2'></a>\n",
    "\n",
    "Import the reviews csv and explore some of the data within:"
   ]
  },
  {
   "cell_type": "code",
   "execution_count": 2,
   "id": "1fef8988",
   "metadata": {},
   "outputs": [
    {
     "data": {
      "text/html": [
       "<div>\n",
       "<style scoped>\n",
       "    .dataframe tbody tr th:only-of-type {\n",
       "        vertical-align: middle;\n",
       "    }\n",
       "\n",
       "    .dataframe tbody tr th {\n",
       "        vertical-align: top;\n",
       "    }\n",
       "\n",
       "    .dataframe thead th {\n",
       "        text-align: right;\n",
       "    }\n",
       "</style>\n",
       "<table border=\"1\" class=\"dataframe\">\n",
       "  <thead>\n",
       "    <tr style=\"text-align: right;\">\n",
       "      <th></th>\n",
       "      <th>review_id</th>\n",
       "      <th>title</th>\n",
       "      <th>year</th>\n",
       "      <th>user_review</th>\n",
       "      <th>user_suggestion</th>\n",
       "    </tr>\n",
       "  </thead>\n",
       "  <tbody>\n",
       "    <tr>\n",
       "      <th>0</th>\n",
       "      <td>1</td>\n",
       "      <td>Spooky's Jump Scare Mansion</td>\n",
       "      <td>2016.0</td>\n",
       "      <td>I'm scared and hearing creepy voices.  So I'll...</td>\n",
       "      <td>1</td>\n",
       "    </tr>\n",
       "    <tr>\n",
       "      <th>1</th>\n",
       "      <td>2</td>\n",
       "      <td>Spooky's Jump Scare Mansion</td>\n",
       "      <td>2016.0</td>\n",
       "      <td>Best game, more better than Sam Pepper's YouTu...</td>\n",
       "      <td>1</td>\n",
       "    </tr>\n",
       "    <tr>\n",
       "      <th>2</th>\n",
       "      <td>3</td>\n",
       "      <td>Spooky's Jump Scare Mansion</td>\n",
       "      <td>2016.0</td>\n",
       "      <td>A littly iffy on the controls, but once you kn...</td>\n",
       "      <td>1</td>\n",
       "    </tr>\n",
       "    <tr>\n",
       "      <th>3</th>\n",
       "      <td>4</td>\n",
       "      <td>Spooky's Jump Scare Mansion</td>\n",
       "      <td>2015.0</td>\n",
       "      <td>Great game, fun and colorful and all that.A si...</td>\n",
       "      <td>1</td>\n",
       "    </tr>\n",
       "    <tr>\n",
       "      <th>4</th>\n",
       "      <td>5</td>\n",
       "      <td>Spooky's Jump Scare Mansion</td>\n",
       "      <td>2015.0</td>\n",
       "      <td>Not many games have the cute tag right next to...</td>\n",
       "      <td>1</td>\n",
       "    </tr>\n",
       "    <tr>\n",
       "      <th>5</th>\n",
       "      <td>6</td>\n",
       "      <td>Spooky's Jump Scare Mansion</td>\n",
       "      <td>2015.0</td>\n",
       "      <td>Early Access ReviewIt's pretty cute at first, ...</td>\n",
       "      <td>1</td>\n",
       "    </tr>\n",
       "    <tr>\n",
       "      <th>6</th>\n",
       "      <td>7</td>\n",
       "      <td>Spooky's Jump Scare Mansion</td>\n",
       "      <td>2017.0</td>\n",
       "      <td>Great game. it's a cute little horror game tha...</td>\n",
       "      <td>1</td>\n",
       "    </tr>\n",
       "    <tr>\n",
       "      <th>7</th>\n",
       "      <td>8</td>\n",
       "      <td>Spooky's Jump Scare Mansion</td>\n",
       "      <td>2015.0</td>\n",
       "      <td>Spooky's Jump Scare Mansion is a Free Retro ma...</td>\n",
       "      <td>1</td>\n",
       "    </tr>\n",
       "    <tr>\n",
       "      <th>8</th>\n",
       "      <td>9</td>\n",
       "      <td>Spooky's Jump Scare Mansion</td>\n",
       "      <td>2015.0</td>\n",
       "      <td>Somewhere between light hearted, happy parody ...</td>\n",
       "      <td>0</td>\n",
       "    </tr>\n",
       "    <tr>\n",
       "      <th>9</th>\n",
       "      <td>10</td>\n",
       "      <td>Spooky's Jump Scare Mansion</td>\n",
       "      <td>2015.0</td>\n",
       "      <td>This game with its cute little out of the wall...</td>\n",
       "      <td>1</td>\n",
       "    </tr>\n",
       "  </tbody>\n",
       "</table>\n",
       "</div>"
      ],
      "text/plain": [
       "   review_id                        title    year  \\\n",
       "0          1  Spooky's Jump Scare Mansion  2016.0   \n",
       "1          2  Spooky's Jump Scare Mansion  2016.0   \n",
       "2          3  Spooky's Jump Scare Mansion  2016.0   \n",
       "3          4  Spooky's Jump Scare Mansion  2015.0   \n",
       "4          5  Spooky's Jump Scare Mansion  2015.0   \n",
       "5          6  Spooky's Jump Scare Mansion  2015.0   \n",
       "6          7  Spooky's Jump Scare Mansion  2017.0   \n",
       "7          8  Spooky's Jump Scare Mansion  2015.0   \n",
       "8          9  Spooky's Jump Scare Mansion  2015.0   \n",
       "9         10  Spooky's Jump Scare Mansion  2015.0   \n",
       "\n",
       "                                         user_review  user_suggestion  \n",
       "0  I'm scared and hearing creepy voices.  So I'll...                1  \n",
       "1  Best game, more better than Sam Pepper's YouTu...                1  \n",
       "2  A littly iffy on the controls, but once you kn...                1  \n",
       "3  Great game, fun and colorful and all that.A si...                1  \n",
       "4  Not many games have the cute tag right next to...                1  \n",
       "5  Early Access ReviewIt's pretty cute at first, ...                1  \n",
       "6  Great game. it's a cute little horror game tha...                1  \n",
       "7  Spooky's Jump Scare Mansion is a Free Retro ma...                1  \n",
       "8  Somewhere between light hearted, happy parody ...                0  \n",
       "9  This game with its cute little out of the wall...                1  "
      ]
     },
     "execution_count": 2,
     "metadata": {},
     "output_type": "execute_result"
    }
   ],
   "source": [
    "#import data\n",
    "\n",
    "raw_df = pd.read_csv('data/train.csv')\n",
    "raw_df.head(10)"
   ]
  },
  {
   "cell_type": "markdown",
   "id": "7fa8389c",
   "metadata": {},
   "source": [
    "The looks like it loaded correctly, we can confirm with some additional info:"
   ]
  },
  {
   "cell_type": "code",
   "execution_count": 4,
   "id": "a782f4b2",
   "metadata": {
    "scrolled": true
   },
   "outputs": [
    {
     "name": "stdout",
     "output_type": "stream",
     "text": [
      "<class 'pandas.core.frame.DataFrame'>\n",
      "RangeIndex: 17494 entries, 0 to 17493\n",
      "Data columns (total 5 columns):\n",
      " #   Column           Non-Null Count  Dtype  \n",
      "---  ------           --------------  -----  \n",
      " 0   review_id        17494 non-null  int64  \n",
      " 1   title            17494 non-null  object \n",
      " 2   year             17316 non-null  float64\n",
      " 3   user_review      17494 non-null  object \n",
      " 4   user_suggestion  17494 non-null  int64  \n",
      "dtypes: float64(1), int64(2), object(2)\n",
      "memory usage: 683.5+ KB\n"
     ]
    }
   ],
   "source": [
    "#general data information\n",
    "\n",
    "raw_df.info()"
   ]
  },
  {
   "cell_type": "code",
   "execution_count": 4,
   "id": "501dbd83",
   "metadata": {},
   "outputs": [
    {
     "data": {
      "text/plain": [
       "(17494, 5)"
      ]
     },
     "execution_count": 4,
     "metadata": {},
     "output_type": "execute_result"
    }
   ],
   "source": []
  },
  {
   "cell_type": "markdown",
   "id": "71fb1f57",
   "metadata": {},
   "source": [
    "### Observations:\n",
    "Looks like all the data is as it was from the last notebook. Firstly, we need to remove some of the non-english reviews and re-assess the data."
   ]
  },
  {
   "cell_type": "markdown",
   "id": "d5f80b08",
   "metadata": {},
   "source": [
    "# Removing Non-English and Symbolic Reviews"
   ]
  },
  {
   "cell_type": "code",
   "execution_count": null,
   "id": "5244de37",
   "metadata": {},
   "outputs": [],
   "source": []
  },
  {
   "cell_type": "code",
   "execution_count": null,
   "id": "66189e64",
   "metadata": {},
   "outputs": [],
   "source": []
  },
  {
   "cell_type": "code",
   "execution_count": null,
   "id": "92bc0b1b",
   "metadata": {},
   "outputs": [],
   "source": []
  },
  {
   "cell_type": "code",
   "execution_count": null,
   "id": "a98756ba",
   "metadata": {},
   "outputs": [],
   "source": []
  },
  {
   "cell_type": "code",
   "execution_count": null,
   "id": "65a1c960",
   "metadata": {},
   "outputs": [],
   "source": []
  },
  {
   "cell_type": "code",
   "execution_count": null,
   "id": "61d0f2a7",
   "metadata": {},
   "outputs": [],
   "source": []
  },
  {
   "cell_type": "code",
   "execution_count": null,
   "id": "ca98a456",
   "metadata": {},
   "outputs": [],
   "source": []
  },
  {
   "cell_type": "code",
   "execution_count": null,
   "id": "33044802",
   "metadata": {},
   "outputs": [],
   "source": []
  },
  {
   "cell_type": "code",
   "execution_count": null,
   "id": "89715f7f",
   "metadata": {},
   "outputs": [],
   "source": []
  },
  {
   "cell_type": "code",
   "execution_count": null,
   "id": "23d1398a",
   "metadata": {},
   "outputs": [],
   "source": []
  },
  {
   "cell_type": "code",
   "execution_count": null,
   "id": "eed5b0dc",
   "metadata": {},
   "outputs": [],
   "source": []
  },
  {
   "cell_type": "code",
   "execution_count": null,
   "id": "2a7f10ae",
   "metadata": {},
   "outputs": [],
   "source": []
  },
  {
   "cell_type": "code",
   "execution_count": null,
   "id": "387557b2",
   "metadata": {},
   "outputs": [],
   "source": []
  },
  {
   "cell_type": "code",
   "execution_count": null,
   "id": "4ff95f23",
   "metadata": {},
   "outputs": [],
   "source": []
  },
  {
   "cell_type": "code",
   "execution_count": null,
   "id": "c85cd2ee",
   "metadata": {},
   "outputs": [],
   "source": []
  },
  {
   "cell_type": "code",
   "execution_count": null,
   "id": "fea703fc",
   "metadata": {},
   "outputs": [],
   "source": []
  },
  {
   "cell_type": "code",
   "execution_count": null,
   "id": "09b7dcaa",
   "metadata": {},
   "outputs": [],
   "source": []
  },
  {
   "cell_type": "code",
   "execution_count": null,
   "id": "4339f9e8",
   "metadata": {},
   "outputs": [],
   "source": []
  },
  {
   "cell_type": "code",
   "execution_count": null,
   "id": "626fd51e",
   "metadata": {},
   "outputs": [],
   "source": []
  },
  {
   "cell_type": "code",
   "execution_count": null,
   "id": "6c666451",
   "metadata": {},
   "outputs": [],
   "source": []
  },
  {
   "cell_type": "code",
   "execution_count": null,
   "id": "c2d99d96",
   "metadata": {},
   "outputs": [],
   "source": []
  },
  {
   "cell_type": "markdown",
   "id": "13ff93ee",
   "metadata": {},
   "source": [
    "------------------------------------------------------------------------------------------------------------------------------"
   ]
  },
  {
   "cell_type": "markdown",
   "id": "3c655f3a",
   "metadata": {},
   "source": [
    "# Summary and Next Steps:\n",
    "<a id='7'></a>\n",
    "[Return to Top](#ReturntoTop)\n",
    "\n",
    "**From the Preliminary EDA we found the following out and completed the following tasks for our dataset:**\n",
    "- This is a relatively small data set with only ~17,000 reviews\n",
    "- There are 44 unique video game titles with multiple reviews for each. Each review also logs an overall (binary) recommendation.\n",
    "- There where no duplicate or missing values and no data imputation was required\n",
    "- Of the reviews we noted that some have non-english words and symbols.\n",
    "- There are a few data imbalances in our data\n",
    "    - There are more overall positive reviews than negative reviews\n",
    "    - There are varying amounts of reviews by each title\n",
    "    - There are varying amounts of positive and negative reviews within each title (some are highly positive and others are highly negative)\n",
    "- Generally speaking, the games are mostly positively reviewed (assuming positive percentage greater than 50%)\n",
    "\n",
    "\n",
    "**Next Steps: (Data Cleaning and Prep)**\n",
    "- Firstly we will need to remove non-english reviews\n",
    "    - re-evaluate the amount of data we have and the distribution between positive and negative reviews after this\n",
    "- Determine if we will employ methods to reduce data imbalances (ex: Under vs Over Sampling, Class weighting, Data Augmentation\n",
    "\n",
    "    "
   ]
  },
  {
   "cell_type": "markdown",
   "id": "1987b293",
   "metadata": {},
   "source": [
    "### Next steps are located in the Second Notebook - '2.0_DataCleaning_and_Prep'"
   ]
  }
 ],
 "metadata": {
  "kernelspec": {
   "display_name": "baseclone",
   "language": "python",
   "name": "baseclone"
  },
  "language_info": {
   "codemirror_mode": {
    "name": "ipython",
    "version": 3
   },
   "file_extension": ".py",
   "mimetype": "text/x-python",
   "name": "python",
   "nbconvert_exporter": "python",
   "pygments_lexer": "ipython3",
   "version": "3.9.13"
  }
 },
 "nbformat": 4,
 "nbformat_minor": 5
}
