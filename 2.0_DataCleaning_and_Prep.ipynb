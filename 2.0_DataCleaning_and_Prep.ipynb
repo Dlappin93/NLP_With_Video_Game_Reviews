{
 "cells": [
  {
   "cell_type": "markdown",
   "id": "0efce392",
   "metadata": {},
   "source": [
    "<a id='ReturntoTop'></a>\n",
    "\n",
    "\n",
    "<header>\n",
    "  <div style=\"display:flex; align-items:center;\">\n",
    "    <div style=\"flex-grow:1;\">\n",
    "      <h1>NLP with Steam Video Game Reviews</h1>\n",
    "      <h3>Notebook 2 - Data Cleaning and Prep</h3>\n",
    "      <p>Author: David Lappin | Date: 5/12/2023 - */**/2023 </p>\n",
    "    </div>\n",
    "    <img src=\"bannerphoto/banner.jpg\" alt=\"your-image-description\" style=\"height:225px; margin-left:50px; border: 8px solid black;border-radius: 5%;\">\n",
    "  </div>\n",
    "</header>"
   ]
  },
  {
   "cell_type": "markdown",
   "id": "ccd8561b",
   "metadata": {},
   "source": [
    "------------------------------------------------------------------------------------------------------------------------------"
   ]
  },
  {
   "cell_type": "markdown",
   "id": "91443a5c",
   "metadata": {},
   "source": [
    "# Introduction and Purpose"
   ]
  },
  {
   "cell_type": "markdown",
   "id": "48089cab",
   "metadata": {},
   "source": [
    "\n"
   ]
  },
  {
   "cell_type": "markdown",
   "id": "277da2b3",
   "metadata": {},
   "source": [
    "# Table of Contents"
   ]
  },
  {
   "cell_type": "markdown",
   "id": "40c1c188",
   "metadata": {},
   "source": [
    "[Packages Import](#1)\n",
    "\n",
    "[Data Import](#2)\n",
    "\n",
    "[Blank](#3)\n",
    "\n",
    "[Blank](#4)\n",
    "\n",
    "[Blank](#5)\n"
   ]
  },
  {
   "cell_type": "markdown",
   "id": "106e26da",
   "metadata": {},
   "source": [
    "# Packages Import\n",
    "<a id='1'></a>\n",
    "[Return to Top](#ReturntoTop)"
   ]
  },
  {
   "cell_type": "markdown",
   "id": "07cf3a76",
   "metadata": {},
   "source": [
    "**Matplotlib** - Used as needed for basic visualizations\n",
    "\n",
    "**Numpy** - Supports large, multi-dimensional arrays and matrices,and contains a large collection of high-level mathematical functions to operate on these arrays.\n",
    "\n",
    "**Pandas** - Additional data manipulation and analysis\n",
    "\n",
    "**sklearn** - machine learning library\n",
    "\n",
    "**seaborn** - graphing and visualization package\n",
    "\n",
    "**nltk.corpus stopwords** - allows for the removal of english stop words (a, an, am, for....ect) in the user reviews\n",
    "\n",
    "**nltk.stem PorterStemmer** - removing the commoner morphological and inflexional endings from words in English. \n",
    "\n",
    "**nltk WordNetLemmatizer** - reduces a word to its base or dictionary form\n",
    "\n",
    "**re** - regex expression support\n",
    "\n",
    "**nltk.stem SnowballStemmer** - reduces a word to its base or dictionary form\n"
   ]
  },
  {
   "cell_type": "code",
   "execution_count": 72,
   "id": "39df84fc",
   "metadata": {},
   "outputs": [],
   "source": [
    "import matplotlib.pyplot as plt\n",
    "import numpy as np\n",
    "import pandas as pd\n",
    "import seaborn as sns\n",
    "import sklearn.metrics as sk_metrics\n",
    "\n",
    "#text cleaning \n",
    "import re\n",
    "import nltk\n",
    "from nltk.corpus import stopwords\n",
    "from nltk.stem import PorterStemmer\n",
    "from nltk import WordNetLemmatizer\n",
    "from nltk.stem import SnowballStemmer"
   ]
  },
  {
   "cell_type": "markdown",
   "id": "f1f2512e",
   "metadata": {},
   "source": [
    "# Data Import\n",
    "[Return to Top](#ReturntoTop)\n",
    "<a id='2'></a>\n",
    "\n",
    "Import the reviews csv and explore some of the data within:"
   ]
  },
  {
   "cell_type": "code",
   "execution_count": 129,
   "id": "1fef8988",
   "metadata": {},
   "outputs": [
    {
     "data": {
      "text/html": [
       "<div>\n",
       "<style scoped>\n",
       "    .dataframe tbody tr th:only-of-type {\n",
       "        vertical-align: middle;\n",
       "    }\n",
       "\n",
       "    .dataframe tbody tr th {\n",
       "        vertical-align: top;\n",
       "    }\n",
       "\n",
       "    .dataframe thead th {\n",
       "        text-align: right;\n",
       "    }\n",
       "</style>\n",
       "<table border=\"1\" class=\"dataframe\">\n",
       "  <thead>\n",
       "    <tr style=\"text-align: right;\">\n",
       "      <th></th>\n",
       "      <th>review_id</th>\n",
       "      <th>title</th>\n",
       "      <th>year</th>\n",
       "      <th>user_review</th>\n",
       "      <th>user_suggestion</th>\n",
       "    </tr>\n",
       "  </thead>\n",
       "  <tbody>\n",
       "    <tr>\n",
       "      <th>0</th>\n",
       "      <td>1</td>\n",
       "      <td>Spooky's Jump Scare Mansion</td>\n",
       "      <td>2016.0</td>\n",
       "      <td>I'm scared and hearing creepy voices.  So I'll...</td>\n",
       "      <td>1</td>\n",
       "    </tr>\n",
       "    <tr>\n",
       "      <th>1</th>\n",
       "      <td>2</td>\n",
       "      <td>Spooky's Jump Scare Mansion</td>\n",
       "      <td>2016.0</td>\n",
       "      <td>Best game, more better than Sam Pepper's YouTu...</td>\n",
       "      <td>1</td>\n",
       "    </tr>\n",
       "    <tr>\n",
       "      <th>2</th>\n",
       "      <td>3</td>\n",
       "      <td>Spooky's Jump Scare Mansion</td>\n",
       "      <td>2016.0</td>\n",
       "      <td>A littly iffy on the controls, but once you kn...</td>\n",
       "      <td>1</td>\n",
       "    </tr>\n",
       "    <tr>\n",
       "      <th>3</th>\n",
       "      <td>4</td>\n",
       "      <td>Spooky's Jump Scare Mansion</td>\n",
       "      <td>2015.0</td>\n",
       "      <td>Great game, fun and colorful and all that.A si...</td>\n",
       "      <td>1</td>\n",
       "    </tr>\n",
       "    <tr>\n",
       "      <th>4</th>\n",
       "      <td>5</td>\n",
       "      <td>Spooky's Jump Scare Mansion</td>\n",
       "      <td>2015.0</td>\n",
       "      <td>Not many games have the cute tag right next to...</td>\n",
       "      <td>1</td>\n",
       "    </tr>\n",
       "    <tr>\n",
       "      <th>5</th>\n",
       "      <td>6</td>\n",
       "      <td>Spooky's Jump Scare Mansion</td>\n",
       "      <td>2015.0</td>\n",
       "      <td>Early Access ReviewIt's pretty cute at first, ...</td>\n",
       "      <td>1</td>\n",
       "    </tr>\n",
       "    <tr>\n",
       "      <th>6</th>\n",
       "      <td>7</td>\n",
       "      <td>Spooky's Jump Scare Mansion</td>\n",
       "      <td>2017.0</td>\n",
       "      <td>Great game. it's a cute little horror game tha...</td>\n",
       "      <td>1</td>\n",
       "    </tr>\n",
       "    <tr>\n",
       "      <th>7</th>\n",
       "      <td>8</td>\n",
       "      <td>Spooky's Jump Scare Mansion</td>\n",
       "      <td>2015.0</td>\n",
       "      <td>Spooky's Jump Scare Mansion is a Free Retro ma...</td>\n",
       "      <td>1</td>\n",
       "    </tr>\n",
       "    <tr>\n",
       "      <th>8</th>\n",
       "      <td>9</td>\n",
       "      <td>Spooky's Jump Scare Mansion</td>\n",
       "      <td>2015.0</td>\n",
       "      <td>Somewhere between light hearted, happy parody ...</td>\n",
       "      <td>0</td>\n",
       "    </tr>\n",
       "    <tr>\n",
       "      <th>9</th>\n",
       "      <td>10</td>\n",
       "      <td>Spooky's Jump Scare Mansion</td>\n",
       "      <td>2015.0</td>\n",
       "      <td>This game with its cute little out of the wall...</td>\n",
       "      <td>1</td>\n",
       "    </tr>\n",
       "  </tbody>\n",
       "</table>\n",
       "</div>"
      ],
      "text/plain": [
       "   review_id                        title    year  \\\n",
       "0          1  Spooky's Jump Scare Mansion  2016.0   \n",
       "1          2  Spooky's Jump Scare Mansion  2016.0   \n",
       "2          3  Spooky's Jump Scare Mansion  2016.0   \n",
       "3          4  Spooky's Jump Scare Mansion  2015.0   \n",
       "4          5  Spooky's Jump Scare Mansion  2015.0   \n",
       "5          6  Spooky's Jump Scare Mansion  2015.0   \n",
       "6          7  Spooky's Jump Scare Mansion  2017.0   \n",
       "7          8  Spooky's Jump Scare Mansion  2015.0   \n",
       "8          9  Spooky's Jump Scare Mansion  2015.0   \n",
       "9         10  Spooky's Jump Scare Mansion  2015.0   \n",
       "\n",
       "                                         user_review  user_suggestion  \n",
       "0  I'm scared and hearing creepy voices.  So I'll...                1  \n",
       "1  Best game, more better than Sam Pepper's YouTu...                1  \n",
       "2  A littly iffy on the controls, but once you kn...                1  \n",
       "3  Great game, fun and colorful and all that.A si...                1  \n",
       "4  Not many games have the cute tag right next to...                1  \n",
       "5  Early Access ReviewIt's pretty cute at first, ...                1  \n",
       "6  Great game. it's a cute little horror game tha...                1  \n",
       "7  Spooky's Jump Scare Mansion is a Free Retro ma...                1  \n",
       "8  Somewhere between light hearted, happy parody ...                0  \n",
       "9  This game with its cute little out of the wall...                1  "
      ]
     },
     "execution_count": 129,
     "metadata": {},
     "output_type": "execute_result"
    }
   ],
   "source": [
    "#import data\n",
    "\n",
    "raw_df = pd.read_csv('data/train.csv')\n",
    "raw_df.head(10)"
   ]
  },
  {
   "cell_type": "markdown",
   "id": "7fa8389c",
   "metadata": {},
   "source": [
    "The looks like it loaded correctly, we can confirm with some additional info:"
   ]
  },
  {
   "cell_type": "code",
   "execution_count": 130,
   "id": "a782f4b2",
   "metadata": {
    "scrolled": true
   },
   "outputs": [
    {
     "name": "stdout",
     "output_type": "stream",
     "text": [
      "<class 'pandas.core.frame.DataFrame'>\n",
      "RangeIndex: 17494 entries, 0 to 17493\n",
      "Data columns (total 5 columns):\n",
      " #   Column           Non-Null Count  Dtype  \n",
      "---  ------           --------------  -----  \n",
      " 0   review_id        17494 non-null  int64  \n",
      " 1   title            17494 non-null  object \n",
      " 2   year             17316 non-null  float64\n",
      " 3   user_review      17494 non-null  object \n",
      " 4   user_suggestion  17494 non-null  int64  \n",
      "dtypes: float64(1), int64(2), object(2)\n",
      "memory usage: 683.5+ KB\n"
     ]
    }
   ],
   "source": [
    "#general data information\n",
    "\n",
    "raw_df.info()"
   ]
  },
  {
   "cell_type": "markdown",
   "id": "bf42c423",
   "metadata": {},
   "source": [
    "### Observations:\n",
    "Looks like all the data is as it was from the last notebook. Firstly, let's convert the review text to string type (instead of object) and then we can begin to clean the text of stop words, symbols, emojis, non-english text ect... "
   ]
  },
  {
   "cell_type": "code",
   "execution_count": 131,
   "id": "0b9c28ba",
   "metadata": {},
   "outputs": [
    {
     "data": {
      "text/plain": [
       "0    I'm scared and hearing creepy voices.  So I'll...\n",
       "1    Best game, more better than Sam Pepper's YouTu...\n",
       "2    A littly iffy on the controls, but once you kn...\n",
       "3    Great game, fun and colorful and all that.A si...\n",
       "4    Not many games have the cute tag right next to...\n",
       "Name: user_review, dtype: object"
      ]
     },
     "execution_count": 131,
     "metadata": {},
     "output_type": "execute_result"
    }
   ],
   "source": [
    "#changing to string\n",
    "\n",
    "raw_df['user_review'].astype(str).head()"
   ]
  },
  {
   "cell_type": "code",
   "execution_count": 132,
   "id": "80cefae0",
   "metadata": {},
   "outputs": [],
   "source": [
    "#commit change to string\n",
    "\n",
    "raw_df['user_review'] = raw_df['user_review'].astype(str)"
   ]
  },
  {
   "cell_type": "code",
   "execution_count": 133,
   "id": "1fc91291",
   "metadata": {},
   "outputs": [
    {
     "name": "stdout",
     "output_type": "stream",
     "text": [
      "<class 'pandas.core.frame.DataFrame'>\n",
      "RangeIndex: 17494 entries, 0 to 17493\n",
      "Data columns (total 5 columns):\n",
      " #   Column           Non-Null Count  Dtype  \n",
      "---  ------           --------------  -----  \n",
      " 0   review_id        17494 non-null  int64  \n",
      " 1   title            17494 non-null  object \n",
      " 2   year             17316 non-null  float64\n",
      " 3   user_review      17494 non-null  object \n",
      " 4   user_suggestion  17494 non-null  int64  \n",
      "dtypes: float64(1), int64(2), object(2)\n",
      "memory usage: 683.5+ KB\n"
     ]
    }
   ],
   "source": [
    "#check the data type for sanity check \n",
    "\n",
    "raw_df.info()"
   ]
  },
  {
   "cell_type": "code",
   "execution_count": 134,
   "id": "9f86cea5",
   "metadata": {},
   "outputs": [
    {
     "name": "stdout",
     "output_type": "stream",
     "text": [
      "object\n"
     ]
    }
   ],
   "source": [
    "print(raw_df['user_review'].dtype)"
   ]
  },
  {
   "cell_type": "markdown",
   "id": "c261b826",
   "metadata": {},
   "source": [
    "### Observations:\n",
    "\n",
    "Based on the variable lengths of text per review, the column is defaulting to object datatype. We can go ahead and work on cleaning the review text to prep for tokenization and modeling. Lets review the previous selection of reviews:"
   ]
  },
  {
   "cell_type": "markdown",
   "id": "1cada433",
   "metadata": {},
   "source": [
    "# Removing \"Early Access Reviews\"\n",
    "\n",
    "After doing some research into Steam and its Early Access Reviews, I found that theses are reviews based on pre-release or beta versions of the games. Essentially, these reviews are by people playing an unfinished game and are intended to provide crowd sourced feedback to developers. \n",
    "\n",
    "**Per Steams Website Docs:** (https://partner.steamgames.com/doc/store/earlyaccess)\n",
    "\n",
    "> *What is Early Access?\n",
    "Steam Early Access enables you to sell your game on Steam while it is still being developed, and provide context to customers that a product should be considered \"unfinished.\" Early Access is a place for games that are in a playable alpha or beta state, are worth the current value of the playable build, and that you plan to continue to develop for release.\n",
    "\n",
    "> Releasing a game in Early Access helps set context for prospective customers and provides them with information about your plans and goals before a \"final\" release.*\n",
    "\n",
    "These specific reviews might be a great way to predict the positive or negative sentiment of a game BEFORE it is released. Modeling theses specific reviews could be a way of indicating the success or failure of a game pre-launch. They are not however, a pure review of a completed game and therefore, should not be included in this project. We will remove these reviews before continuing to clean up the text.\n",
    "\n",
    "**Lets look again at the sample reviews from Notebook: '1.0_EDA_and_Exploration'**"
   ]
  },
  {
   "cell_type": "code",
   "execution_count": 135,
   "id": "478e566b",
   "metadata": {
    "scrolled": false
   },
   "outputs": [
    {
     "name": "stdout",
     "output_type": "stream",
     "text": [
      "Clicker game that doesn't need you to click.You can just leave the game to play at background while you do your stuffs (including work, yeah, I've done it. Don't try this at supervised office computer, though), and come back once in a while to upgrade all your crusaders, then get back to what you were doing.The fairly recent addition of Mission makes collecting crusaders worth it.This game is an example of how F2P should be, many freebies - you can buy Jeweled Chests using Rubies which generously given by daily tasks and missions, and every event there are at least 3 Jeweled Event Chests for you, plus 1 extra for you newsletter subscriber.Definitely 5/7\n",
      "\n",
      "\n",
      "ehh ส์ํ์ั์ํ์๋์ํ์ั์ํ์่์ํ์ั์ํ์๋์ํ์ั์ํ์็์ํ์ั์ํ์๋์ํ์ั์ํ์่์ํ์ั์ํ์๋์ํ์ั์ํ์็์ํ์ั์ํ์๋์ํ์ั์ํ์่์ํ์ั์ํ์๋์ํ์ั์ํ์็์ํ์ั์ํ์๋์ํ์ั์ํ์่์ํ์ั์ํ์๋์ํ์ั์ํ์็์ํ์ั์ํ์๋์ํ์ั์ํ์่์ํ์ั์ํ์๋์ํ์ั์ํ์็์ํ์ั์ํ์๋์ํ์ั์ํ์่์ํ์ั์ํ์๋์ํ์ั์ํ์็์ํ์ั์ํ์๋์ํ์ั์ํ์่์ํ์ั์ํ์๋์ํ์ั์ํ์็์ํ์ั์ํ์๋์ํ์ั์ํ์่์ํ์ั์ํ์๋์ํ์ั์ํ์็์ํ์ั์ํ์๋์ํ์ั์ํ์่์ํ์ั์ํ์๋์ํ์ั์ํ์็์ํ์ั์ํ์๋์ํ์ั์ํ์่์ํ์ั์ํ์๋์ํ์ั์ํ์็์ํ์ั์ํ์๋์ํ์ั์ํ์่์ํ์ั์ํ์๋์ํ์ั์ํ์็์ํ์ั์ํ์๋์ํ์ั์ํ์่์ํ์ั์ํ์๋์ํ์ั์ํ์็์ํ์ั์ํ์๋์ํ์ั์ํ์่์ํ์ั์ํ์๋์ํ์ั์ํ์็์ํ์ั์ํ์๋์ํ์ั์ํ์่์ํ์ั์ํ์๋์ํ์ั์ํ์็์ํ์ั์ํ์๋์ํ์ั์ํ์่์ํ์ั์ํ์๋์ํ์ั์ํ์็์ํ์ั์ํ์๋์ํ์ั์ํ์่์ํ์ั์ํ์๋์ํ์ั์ํ์็์ํ์ั์ํ์๋์ํ์ั์ํ์่์ํ์ั์ํ์๋์ํ์ั์ํ์็์ํ์ั์ํ์๋์ํ์ั์ํ์่์ํ์ั์ํ์๋์ํ์ั์ํ์็์ํ์ั์ํ์๋์ํ์ั์ํ์่์ํ์ั์ํ์๋์ํ์ั์ํ์็์ํ์ั์ํ์๋์ํ์ั์ํ์่์ํ์ั์ํ์๋์ํ์ั์ํ์็์ํ์ั์ํ์๋์ํ์ั์ํ์่์ํ์ั์ํ์๋์ํ์ั์ํ์็์ํ์ั์ํ์๋์ํ์ั์ํ์่์ํ์ั์ํ์๋์ํ์ั์ํ์็์ํ์ั์ํ์๋์ํ์ั์ํ์่์ํ์ั์ํ์๋์ํ์ั์ํ์็์ํ์ั์ํ์๋์ํ์ั์ํ์่์ํ์ั์ํ์๋์ํ์ั์ํ์็์ํ์ั์ํ์๋์ํ์ั์ํ์่์ํ์ั์ํ์๋์ํ์ั์ํ์็์ํ์ั์ํ์๋์ํ์ั์ํ์่์ํ์ั์ํ์๋์ํ์ั์ํ์ส์ํ์ั์ํ์๋์ํ์ั์ํ์่์ํ์ั์ํ์๋์ํ์ั์ํ์็์ํ์ั์ํ์๋์ํ์ั์ํ์่์ํ์ั์ํ์๋์ํ์ั์ํ์็์ํ์ั์ํ์๋์ํ์ั์ํ์่์ํ์ั์ํ์๋์ํ์ั์ํ์็์ํ์ั์ํ์๋์ํ์ั์ํ์่์ํ์ั์ํ์๋์ํ์ั์ํ์็์ํ์ั์ํ์๋์ํ์ั์ํ์่์ํ์ั์ํ์๋์ํ์ั์ํ์็์ํ์ั์ํ์๋์ํ์ั์ํ์่์ํ์ั์ํ์๋์ํ์ั์ํ์็์ํ์ั์ํ์๋์ํ์ั์ํ์่์ํ์ั์ํ์๋์ํ์ั์ํ์็์ํ์ั์ํ์๋์ํ์ั์ํ์่์ํ์ั์ํ์๋์ํ์ั์ํ์็์ํ์ั์ํ์๋์ํ์ั์ํ์่์ํ์ั์ํ์๋์ํ์ั์ํ์็์ํ์ั์ํ์๋์ํ์ั์ํ์่์ํ์ั์ํ์๋์ํ์ั์ํ์็์ํ์ั์ํ์๋์ํ์ั์ํ์่์ํ์ั์ํ์๋์ํ์ั์ํ์็์ํ์ั์ํ์๋์ํ์ั์ํ์่์ํ์ั์ํ์๋์ํ์ั์ํ์็์ํ์ั์ํ์๋์ํ์ั์ํ์่์ํ์ั์ํ์๋์ํ์ั์ํ์็์ํ์ั์ํ์๋์ํ์ั์ํ์่์ํ์ั์ํ์๋์ํ์ั์ํ์็์ํ์ั์ํ์๋์ํ์ั์ํ์่์ํ์ั์ํ์๋์ํ์ั์ํ์็์ํ์ั์ํ์๋์ํ์ั์ํ์่์ํ์ั์ํ์๋์ํ์ั์ํ์็์ํ์ั์ํ์๋์ํ์ั์ํ์่์ํ์ั์ํ์๋์ํ์ั์ํ์็์ํ์ั์ํ์๋์ํ์ั์ํ์่์ํ์ั์ํ์๋์ํ์ั์ํ์็์ํ์ั์ํ์๋์ํ์ั์ํ์่์ํ์ั์ํ์๋์ํ์ั์ํ์็์ํ์ั์ํ์๋์ํ์ั์ํ์่์ํ์ั์ํ์๋์ํ์ั์ํ์็์ํ์ั์ํ์๋์ํ์ั์ํ์่์ํ์ั์ํ์๋์ํ์ั์ํ์็์ํ์ั์ํ์๋์ํ์ั์ํ์่์ํ์ั์ํ์๋์ํ์ั์ํ์็์ํ์ั์ํ์๋์ํ์ั์ํ์่์ํ์ั์ํ์๋์ํ์ั์ํ์็์ํ์ั์ํ์๋์ํ์ั์ํ์่์ํ์ั์ํ์๋์ํ์ั์ํ์็์ํ์ั์ํ์๋์ํ์ั์ํ์่์ํ์ั์ํ์๋์ํ์ั์ํ์็์ํ์ั์ํ์๋์ํ์ั์ํ์่์ํ์ั์ํ์๋์ํ์ัส์ํ์ั์ํ์๋์ํ์ั์ํ์่์ํ์ั์ํ์๋์ํ์ั์ํ์็์ํ์ั์ํ์๋์ํ์ั์ํ์่์ํ์ั์ํ์๋์ํ์ั์ํ์็์ํ์ั์ํ์๋์ํ์ั์ํ์่์ํ์ั์ํ์๋์ํ์ั์ํ์็์ํ์ั์ํ์๋์ํ์ั์ํ์่์ํ์ั์ํ์๋์ํ์ั์ํ์็์ํ์ั์ํ์๋์ํ์ั์ํ์่์ํ์ั์ํ์๋์ํ์ั์ํ์็์ํ์ั์ํ์๋์ํ์ั์ํ์่์ํ์ั์ํ์๋์ํ์ั์ํ์็์ํ์ั์ํ์๋์ํ์ั์ํ์่์ํ์ั์ํ์๋์ํ์ั์ํ์็์ํ์ั์ํ์๋์ํ์ั์ํ์่์ํ์ั์ํ์๋์ํ์ั์ํ์็์ํ์ั์ํ์๋์ํ์ั์ํ์่์ํ์ั์ํ์๋์ํ์ั์ํ์็์ํ์ั์ํ์๋์ํ์ั์ํ์่์ํ์ั์ํ์๋์ํ์ั์ํ์็์ํ์ั์ํ์๋์ํ์ั์ํ์่์ํ์ั์ํ์๋์ํ์ั์ํ์็์ํ์ั์ํ์๋์ํ์ั์ํ์่์ํ์ั์ํ์๋์ํ์ั์ํ์็์ํ์ั์ํ์๋์ํ์ั์ํ์่์ํ์ั์ํ์๋์ํ์ั์ํ์็์ํ์ั์ํ์๋์ํ์ั์ํ์่์ํ์ั์ํ์๋์ํ์ั์ํ์็์ํ์ั์ํ์๋์ํ์ั์ํ์่์ํ์ั์ํ์๋์ํ์ั์ํ์็์ํ์ั์ํ์๋์ํ์ั์ํ์่์ํ์ั์ํ์๋์ํ์ั์ํ์็์ํ์ั์ํ์๋์ํ์ั์ํ์่์ํ์ั์ํ์๋์ํ์ั์ํ์็์ํ์ั์ํ์๋์ํ์ั์ํ์่์ํ์ั์ํ์๋์ํ์ั์ํ์็์ํ์ั์ํ์๋์ํ์ั์ํ์่์ํ์ั์ํ์๋์ํ์ั์ํ์็์ํ์ั์ํ์๋์ํ์ั์ํ์่์ํ์ั์ํ์๋์ํ์ั์ํ์็์ํ์ั์ํ์๋์ํ์ั์ํ์่์ํ์ั์ํ์๋์ํ์ั์ํ์็์ํ์ั์ํ์๋์ํ์ั์ํ์่์ํ์ั์ํ์๋์ํ์ั์ํ์็์ํ์ั์ํ์๋์ํ์ั์ํ์่์ํ์ั์ํ์๋์ํ์ั์ํ์็์ํ์ั์ํ์๋์ํ์ั์ํ์่์ํ์ั์ํ์๋์ํ์ั์ํ์็์ํ์ั์ํ์๋์ํ์ั์ํ์่์ํ์ั์ํ์๋์ํ์ั์ํ์็์ํ์ั์ํ์๋์ํ์ั์ํ์่์ํ์ั์ํ์๋์ํ์ั์ํ์\n",
      "\n",
      "\n",
      "Early Access ReviewThere is nothing good about a game that installs hidden and relabled files on your computer. Uninstalling this game and its sunsequent files is arduous and obnoxious. Its suspicious, and just a bad look. Do NOT download this.\n",
      "\n",
      "\n",
      "It is a little more dicey than actual monopoly, Even old people with zero technical talent could play this game. There is no trading, but instead you can buy out other players properties if you land on it. Buildings can be made right off the bat two houses. After the first pass you unlock a even bigger building. If you land on a tier 3 building than you can upgrade to a hotel if you have excess cash.\n",
      "\n",
      "\n",
      "Early Access ReviewThe game is simply horribly unbalanced in my experiences. There are no real comeback moments because of the random chance to draw sigils which seem to limit your options more and more as the match goes on. The fact that someone can draw 30+ cards in a single turn and end up with a board totaling over 100 damage just speaks volumes about the thought behind some of the cards and their effects.I don't recommend the game for anyone who wants to play casually, only those who would play it \"hardcore\".\n",
      "\n",
      "\n",
      "Early Access ReviewOut of the many battle royale games I've played over the past year, this game has by far been the best. Despite my small amount of hours, this game has actually felt like no other. With the obvious elements from fortnite and the obvious elements from PUBG this game is the perfect mix with some cool additions of it's own creation.The Snowboarding, Gliding and Climbing is cool as♥♥♥♥♥♥ Although the mechanics are a bit janky and there are elements throughout the game that show through it's early access. This game is still better than PUBG and Fortnite.The shooting is satisfying and not overcomplicated, the inventory system works and isn't overcomplicated, the map is actually interesting and I actually want to explore it. The areas are impressive I.E The Mine.It's simple, it works and is actually a lot of fun to play. I'd sooner spend 26 quid on cosmetics on this game that 26 quid on PUBG.I can't wait to see what the future holds for this game.EDIT: I've read a lot about the terms of service in this game and here is what I have to say.All Ring of Elysiums terms of service say is that they have an intrusive anti-cheat, it's needed cause in china cheating is actually illegal and you can get jailtime for it. That's why the game has HWID bans too. You get the same kind of Anti-Cheat when you play ESEA or Faceit or any game with battleye or infact most anti-cheats nowadays. Cheats are so hard to detect so the Anti-Cheats have to be so much more intrusive, it's a small price to pay for a decent game experience.We've all experienced our fair share of sketchy deaths but it terms of blatent cheating I haven't seen any as of yet. As for the sketchy deaths if you look back it was probably just someone got lucky etc because I really haven't died to a lot of BS.As for the company selling your data, there is no genuine hard proof of that. All just speculation.\n",
      "\n",
      "\n",
      " I was drawn to Elsword because of it's graphics and LuCiel story line, however, I'm new to the MMo scene, so I was very apprehensive when I first downloaded the game. So far this game is great. It's very fun to play. I am confused with some f the controls- like how to use potions in the dungeons- but I think I'll figure it out along the way.\n",
      "\n",
      "\n",
      "Fun with friends, a little repetitive if you're playing alone. Recommended to play with friends and create a guild to get guild buffs. Pretty common equipment upgrade system +1, +2, +3... with a chance to break / lose enchantment... etc. Plus, all the female characters have huge breasts. Recommended.\n",
      "\n",
      "\n",
      "Excellent little 'game'. Some other review(s) have complained about the fact that in order to disassemble the chosen gun, you have to do it in a specific order of parts. While yes, this is unrealistic, the game has time trials to entice some competition and incentive to play it over and over again, and to give muscle memory through repetition and allow you to do it faster.The models are all very detailed, the controls are also all excellent, as are the hitboxes for some of the smaller parts when you're clicking on them, even if your clicks aren't super extra precise. The soundtrack isn't super annoying to me personally, which is a major bonus. I highly recommend this game for people that are interested in guns, or just want to kill some time.TL;DR - Good game, much fun, decent sountrack, high replayability, massive variety, much detailedness, DO download and play.\n",
      "\n",
      "\n",
      "Early Access ReviewDont expect any customer support or something for free,This is a horrible pay2not grind game.Also remove the Generals from the title, as you will never experience being one unless you play for a quarter of your life or pay. A lot.\n",
      "\n",
      "\n"
     ]
    }
   ],
   "source": [
    "#Show some samples of the user reviews\n",
    "\n",
    "for x in raw_df['user_review'].sample(n=10, random_state=1001):\n",
    "    print(x)\n",
    "    print('\\n')"
   ]
  },
  {
   "cell_type": "markdown",
   "id": "7b168902",
   "metadata": {},
   "source": [
    "### Observations:\n",
    "\n",
    "As we can see, in this selection alone, there are 4 examples of Early access games. Lets go ahead and replace these with Nan or Null values:"
   ]
  },
  {
   "cell_type": "code",
   "execution_count": 136,
   "id": "c563374a",
   "metadata": {},
   "outputs": [],
   "source": [
    "#replaces all values in the user review column that start with \"Early Access Review\" with Nan\n",
    "#Note: the '^' indicates \"begins with\" and the '.*' at the end indicates \"followed by any characters\"\n",
    "#regex=True ensures that the replacement is applied using regular expression matching\n",
    "\n",
    "raw_df['user_review'] = raw_df['user_review'].replace(r'^Early Access Review.*', np.nan, regex=True)"
   ]
  },
  {
   "cell_type": "markdown",
   "id": "98020df6",
   "metadata": {},
   "source": [
    "Lets look at the same sample again to see if the \"Early Access\" reviews are removed and replaced with Nan Values:"
   ]
  },
  {
   "cell_type": "code",
   "execution_count": 137,
   "id": "48765402",
   "metadata": {},
   "outputs": [
    {
     "name": "stdout",
     "output_type": "stream",
     "text": [
      "Clicker game that doesn't need you to click.You can just leave the game to play at background while you do your stuffs (including work, yeah, I've done it. Don't try this at supervised office computer, though), and come back once in a while to upgrade all your crusaders, then get back to what you were doing.The fairly recent addition of Mission makes collecting crusaders worth it.This game is an example of how F2P should be, many freebies - you can buy Jeweled Chests using Rubies which generously given by daily tasks and missions, and every event there are at least 3 Jeweled Event Chests for you, plus 1 extra for you newsletter subscriber.Definitely 5/7\n",
      "\n",
      "\n",
      "ehh ส์ํ์ั์ํ์๋์ํ์ั์ํ์่์ํ์ั์ํ์๋์ํ์ั์ํ์็์ํ์ั์ํ์๋์ํ์ั์ํ์่์ํ์ั์ํ์๋์ํ์ั์ํ์็์ํ์ั์ํ์๋์ํ์ั์ํ์่์ํ์ั์ํ์๋์ํ์ั์ํ์็์ํ์ั์ํ์๋์ํ์ั์ํ์่์ํ์ั์ํ์๋์ํ์ั์ํ์็์ํ์ั์ํ์๋์ํ์ั์ํ์่์ํ์ั์ํ์๋์ํ์ั์ํ์็์ํ์ั์ํ์๋์ํ์ั์ํ์่์ํ์ั์ํ์๋์ํ์ั์ํ์็์ํ์ั์ํ์๋์ํ์ั์ํ์่์ํ์ั์ํ์๋์ํ์ั์ํ์็์ํ์ั์ํ์๋์ํ์ั์ํ์่์ํ์ั์ํ์๋์ํ์ั์ํ์็์ํ์ั์ํ์๋์ํ์ั์ํ์่์ํ์ั์ํ์๋์ํ์ั์ํ์็์ํ์ั์ํ์๋์ํ์ั์ํ์่์ํ์ั์ํ์๋์ํ์ั์ํ์็์ํ์ั์ํ์๋์ํ์ั์ํ์่์ํ์ั์ํ์๋์ํ์ั์ํ์็์ํ์ั์ํ์๋์ํ์ั์ํ์่์ํ์ั์ํ์๋์ํ์ั์ํ์็์ํ์ั์ํ์๋์ํ์ั์ํ์่์ํ์ั์ํ์๋์ํ์ั์ํ์็์ํ์ั์ํ์๋์ํ์ั์ํ์่์ํ์ั์ํ์๋์ํ์ั์ํ์็์ํ์ั์ํ์๋์ํ์ั์ํ์่์ํ์ั์ํ์๋์ํ์ั์ํ์็์ํ์ั์ํ์๋์ํ์ั์ํ์่์ํ์ั์ํ์๋์ํ์ั์ํ์็์ํ์ั์ํ์๋์ํ์ั์ํ์่์ํ์ั์ํ์๋์ํ์ั์ํ์็์ํ์ั์ํ์๋์ํ์ั์ํ์่์ํ์ั์ํ์๋์ํ์ั์ํ์็์ํ์ั์ํ์๋์ํ์ั์ํ์่์ํ์ั์ํ์๋์ํ์ั์ํ์็์ํ์ั์ํ์๋์ํ์ั์ํ์่์ํ์ั์ํ์๋์ํ์ั์ํ์็์ํ์ั์ํ์๋์ํ์ั์ํ์่์ํ์ั์ํ์๋์ํ์ั์ํ์็์ํ์ั์ํ์๋์ํ์ั์ํ์่์ํ์ั์ํ์๋์ํ์ั์ํ์็์ํ์ั์ํ์๋์ํ์ั์ํ์่์ํ์ั์ํ์๋์ํ์ั์ํ์็์ํ์ั์ํ์๋์ํ์ั์ํ์่์ํ์ั์ํ์๋์ํ์ั์ํ์็์ํ์ั์ํ์๋์ํ์ั์ํ์่์ํ์ั์ํ์๋์ํ์ั์ํ์็์ํ์ั์ํ์๋์ํ์ั์ํ์่์ํ์ั์ํ์๋์ํ์ั์ํ์ส์ํ์ั์ํ์๋์ํ์ั์ํ์่์ํ์ั์ํ์๋์ํ์ั์ํ์็์ํ์ั์ํ์๋์ํ์ั์ํ์่์ํ์ั์ํ์๋์ํ์ั์ํ์็์ํ์ั์ํ์๋์ํ์ั์ํ์่์ํ์ั์ํ์๋์ํ์ั์ํ์็์ํ์ั์ํ์๋์ํ์ั์ํ์่์ํ์ั์ํ์๋์ํ์ั์ํ์็์ํ์ั์ํ์๋์ํ์ั์ํ์่์ํ์ั์ํ์๋์ํ์ั์ํ์็์ํ์ั์ํ์๋์ํ์ั์ํ์่์ํ์ั์ํ์๋์ํ์ั์ํ์็์ํ์ั์ํ์๋์ํ์ั์ํ์่์ํ์ั์ํ์๋์ํ์ั์ํ์็์ํ์ั์ํ์๋์ํ์ั์ํ์่์ํ์ั์ํ์๋์ํ์ั์ํ์็์ํ์ั์ํ์๋์ํ์ั์ํ์่์ํ์ั์ํ์๋์ํ์ั์ํ์็์ํ์ั์ํ์๋์ํ์ั์ํ์่์ํ์ั์ํ์๋์ํ์ั์ํ์็์ํ์ั์ํ์๋์ํ์ั์ํ์่์ํ์ั์ํ์๋์ํ์ั์ํ์็์ํ์ั์ํ์๋์ํ์ั์ํ์่์ํ์ั์ํ์๋์ํ์ั์ํ์็์ํ์ั์ํ์๋์ํ์ั์ํ์่์ํ์ั์ํ์๋์ํ์ั์ํ์็์ํ์ั์ํ์๋์ํ์ั์ํ์่์ํ์ั์ํ์๋์ํ์ั์ํ์็์ํ์ั์ํ์๋์ํ์ั์ํ์่์ํ์ั์ํ์๋์ํ์ั์ํ์็์ํ์ั์ํ์๋์ํ์ั์ํ์่์ํ์ั์ํ์๋์ํ์ั์ํ์็์ํ์ั์ํ์๋์ํ์ั์ํ์่์ํ์ั์ํ์๋์ํ์ั์ํ์็์ํ์ั์ํ์๋์ํ์ั์ํ์่์ํ์ั์ํ์๋์ํ์ั์ํ์็์ํ์ั์ํ์๋์ํ์ั์ํ์่์ํ์ั์ํ์๋์ํ์ั์ํ์็์ํ์ั์ํ์๋์ํ์ั์ํ์่์ํ์ั์ํ์๋์ํ์ั์ํ์็์ํ์ั์ํ์๋์ํ์ั์ํ์่์ํ์ั์ํ์๋์ํ์ั์ํ์็์ํ์ั์ํ์๋์ํ์ั์ํ์่์ํ์ั์ํ์๋์ํ์ั์ํ์็์ํ์ั์ํ์๋์ํ์ั์ํ์่์ํ์ั์ํ์๋์ํ์ั์ํ์็์ํ์ั์ํ์๋์ํ์ั์ํ์่์ํ์ั์ํ์๋์ํ์ั์ํ์็์ํ์ั์ํ์๋์ํ์ั์ํ์่์ํ์ั์ํ์๋์ํ์ั์ํ์็์ํ์ั์ํ์๋์ํ์ั์ํ์่์ํ์ั์ํ์๋์ํ์ัส์ํ์ั์ํ์๋์ํ์ั์ํ์่์ํ์ั์ํ์๋์ํ์ั์ํ์็์ํ์ั์ํ์๋์ํ์ั์ํ์่์ํ์ั์ํ์๋์ํ์ั์ํ์็์ํ์ั์ํ์๋์ํ์ั์ํ์่์ํ์ั์ํ์๋์ํ์ั์ํ์็์ํ์ั์ํ์๋์ํ์ั์ํ์่์ํ์ั์ํ์๋์ํ์ั์ํ์็์ํ์ั์ํ์๋์ํ์ั์ํ์่์ํ์ั์ํ์๋์ํ์ั์ํ์็์ํ์ั์ํ์๋์ํ์ั์ํ์่์ํ์ั์ํ์๋์ํ์ั์ํ์็์ํ์ั์ํ์๋์ํ์ั์ํ์่์ํ์ั์ํ์๋์ํ์ั์ํ์็์ํ์ั์ํ์๋์ํ์ั์ํ์่์ํ์ั์ํ์๋์ํ์ั์ํ์็์ํ์ั์ํ์๋์ํ์ั์ํ์่์ํ์ั์ํ์๋์ํ์ั์ํ์็์ํ์ั์ํ์๋์ํ์ั์ํ์่์ํ์ั์ํ์๋์ํ์ั์ํ์็์ํ์ั์ํ์๋์ํ์ั์ํ์่์ํ์ั์ํ์๋์ํ์ั์ํ์็์ํ์ั์ํ์๋์ํ์ั์ํ์่์ํ์ั์ํ์๋์ํ์ั์ํ์็์ํ์ั์ํ์๋์ํ์ั์ํ์่์ํ์ั์ํ์๋์ํ์ั์ํ์็์ํ์ั์ํ์๋์ํ์ั์ํ์่์ํ์ั์ํ์๋์ํ์ั์ํ์็์ํ์ั์ํ์๋์ํ์ั์ํ์่์ํ์ั์ํ์๋์ํ์ั์ํ์็์ํ์ั์ํ์๋์ํ์ั์ํ์่์ํ์ั์ํ์๋์ํ์ั์ํ์็์ํ์ั์ํ์๋์ํ์ั์ํ์่์ํ์ั์ํ์๋์ํ์ั์ํ์็์ํ์ั์ํ์๋์ํ์ั์ํ์่์ํ์ั์ํ์๋์ํ์ั์ํ์็์ํ์ั์ํ์๋์ํ์ั์ํ์่์ํ์ั์ํ์๋์ํ์ั์ํ์็์ํ์ั์ํ์๋์ํ์ั์ํ์่์ํ์ั์ํ์๋์ํ์ั์ํ์็์ํ์ั์ํ์๋์ํ์ั์ํ์่์ํ์ั์ํ์๋์ํ์ั์ํ์็์ํ์ั์ํ์๋์ํ์ั์ํ์่์ํ์ั์ํ์๋์ํ์ั์ํ์็์ํ์ั์ํ์๋์ํ์ั์ํ์่์ํ์ั์ํ์๋์ํ์ั์ํ์็์ํ์ั์ํ์๋์ํ์ั์ํ์่์ํ์ั์ํ์๋์ํ์ั์ํ์็์ํ์ั์ํ์๋์ํ์ั์ํ์่์ํ์ั์ํ์๋์ํ์ั์ํ์็์ํ์ั์ํ์๋์ํ์ั์ํ์่์ํ์ั์ํ์๋์ํ์ั์ํ์\n",
      "\n",
      "\n",
      "nan\n",
      "\n",
      "\n",
      "It is a little more dicey than actual monopoly, Even old people with zero technical talent could play this game. There is no trading, but instead you can buy out other players properties if you land on it. Buildings can be made right off the bat two houses. After the first pass you unlock a even bigger building. If you land on a tier 3 building than you can upgrade to a hotel if you have excess cash.\n",
      "\n",
      "\n",
      "nan\n",
      "\n",
      "\n",
      "nan\n",
      "\n",
      "\n",
      " I was drawn to Elsword because of it's graphics and LuCiel story line, however, I'm new to the MMo scene, so I was very apprehensive when I first downloaded the game. So far this game is great. It's very fun to play. I am confused with some f the controls- like how to use potions in the dungeons- but I think I'll figure it out along the way.\n",
      "\n",
      "\n",
      "Fun with friends, a little repetitive if you're playing alone. Recommended to play with friends and create a guild to get guild buffs. Pretty common equipment upgrade system +1, +2, +3... with a chance to break / lose enchantment... etc. Plus, all the female characters have huge breasts. Recommended.\n",
      "\n",
      "\n",
      "Excellent little 'game'. Some other review(s) have complained about the fact that in order to disassemble the chosen gun, you have to do it in a specific order of parts. While yes, this is unrealistic, the game has time trials to entice some competition and incentive to play it over and over again, and to give muscle memory through repetition and allow you to do it faster.The models are all very detailed, the controls are also all excellent, as are the hitboxes for some of the smaller parts when you're clicking on them, even if your clicks aren't super extra precise. The soundtrack isn't super annoying to me personally, which is a major bonus. I highly recommend this game for people that are interested in guns, or just want to kill some time.TL;DR - Good game, much fun, decent sountrack, high replayability, massive variety, much detailedness, DO download and play.\n",
      "\n",
      "\n",
      "nan\n",
      "\n",
      "\n"
     ]
    }
   ],
   "source": [
    "for x in raw_df['user_review'].sample(n=10, random_state=1001):\n",
    "    print(x)\n",
    "    print('\\n')"
   ]
  },
  {
   "cell_type": "markdown",
   "id": "a9a9e4b7",
   "metadata": {},
   "source": [
    "### Observations:\n",
    "Great! Looks like they have been replaced. Lets now check to see how many where removed by summing all Nan values in the `user_review` column:"
   ]
  },
  {
   "cell_type": "code",
   "execution_count": 138,
   "id": "702b5036",
   "metadata": {},
   "outputs": [
    {
     "data": {
      "text/plain": [
       "5733"
      ]
     },
     "execution_count": 138,
     "metadata": {},
     "output_type": "execute_result"
    }
   ],
   "source": [
    "#check for Nan values in user_review column\n",
    "\n",
    "raw_df['user_review'].isnull().sum()"
   ]
  },
  {
   "cell_type": "markdown",
   "id": "a20325a6",
   "metadata": {},
   "source": [
    "### Observations\n",
    "\n",
    "There are approximately 5 thousand Early Access Reviews that have been removed. This is quite a few (about a third), and while this is a fair bit of the data set, the data does not fit the objective and needs to be removed for improved accuracy. We will remove all the nan values in the future.\n",
    "\n",
    "We can now move on to text clean up to address the punctuation, excess spaces, emojis, ect...\n",
    "\n"
   ]
  },
  {
   "cell_type": "code",
   "execution_count": 139,
   "id": "97e016f5",
   "metadata": {},
   "outputs": [
    {
     "data": {
      "text/plain": [
       "review_id            0\n",
       "title                0\n",
       "year               178\n",
       "user_review          0\n",
       "user_suggestion      0\n",
       "dtype: int64"
      ]
     },
     "execution_count": 139,
     "metadata": {},
     "output_type": "execute_result"
    }
   ],
   "source": [
    "#sanity check to determine if the Nan values will be removed\n",
    "\n",
    "raw_df.dropna(subset=['user_review'], inplace=False).isnull().sum()"
   ]
  },
  {
   "cell_type": "code",
   "execution_count": 140,
   "id": "913ec0a5",
   "metadata": {},
   "outputs": [],
   "source": [
    "#confirm drop values\n",
    "\n",
    "raw_df.dropna(subset=['user_review'], inplace=True)"
   ]
  },
  {
   "cell_type": "code",
   "execution_count": 141,
   "id": "8b62a146",
   "metadata": {},
   "outputs": [
    {
     "data": {
      "text/plain": [
       "0"
      ]
     },
     "execution_count": 141,
     "metadata": {},
     "output_type": "execute_result"
    }
   ],
   "source": [
    "#check for Nan values in user_review column\n",
    "\n",
    "raw_df['user_review'].isnull().sum()"
   ]
  },
  {
   "cell_type": "code",
   "execution_count": 142,
   "id": "745107d4",
   "metadata": {},
   "outputs": [
    {
     "data": {
      "text/plain": [
       "11761"
      ]
     },
     "execution_count": 142,
     "metadata": {},
     "output_type": "execute_result"
    }
   ],
   "source": [
    "#check the new length of the dataframe\n",
    "\n",
    "len(raw_df)"
   ]
  },
  {
   "cell_type": "markdown",
   "id": "27fbab9a",
   "metadata": {},
   "source": [
    "# Text Cleaning and Prep\n",
    "\n",
    "The following is a really nice collection of code sourced from a similar project (link to source below). This project used a similar Steam data set to perform some type of sentiment analysis. The data set used in the project was significantly larger and potentially had more issues than we uncovered so the code here is very comprehensive. As a precaution, and because it wont hurt our data to cover all the bases, we will include it all.\n",
    "\n",
    "In general, the code below seeks to define text cleaning functions for the following;\n",
    "- Removal of unwanted symbols, emojis, spaces, numbers and punctuation\n",
    "- Removal of English Stop words\n",
    "- Reducing words to their root form via 'Stemming'\n",
    "\n",
    "I have included additional markdown to explain what is happeinign in each function\n",
    "\n",
    "**Source - https://www.kaggle.com/code/danielbeltsazar/steam-games-reviews-analysis-sentiment-analysis**"
   ]
  },
  {
   "cell_type": "code",
   "execution_count": 143,
   "id": "eb5e5d9e",
   "metadata": {},
   "outputs": [],
   "source": [
    "#\n",
    "\n",
    "def clean(raw):\n",
    "    \"\"\" Remove hyperlinks and markup \"\"\"\n",
    "    result = re.sub(\"<[a][^>]*>(.+?)</[a]>\", 'Link.', raw)\n",
    "    result = re.sub('&gt;', \"\", result)\n",
    "    result = re.sub('&#x27;', \"'\", result)\n",
    "    result = re.sub('&quot;', '\"', result)\n",
    "    result = re.sub('&#x2F;', ' ', result)\n",
    "    result = re.sub('<p>', ' ', result)\n",
    "    result = re.sub('</i>', '', result)\n",
    "    result = re.sub('&#62;', '', result)\n",
    "    result = re.sub('<i>', ' ', result)\n",
    "    result = re.sub(\"\\n\", '', result)\n",
    "    return result\n",
    "\n",
    "\n",
    "#\n",
    "\n",
    "def remove_num(texts):\n",
    "   output = re.sub(r'\\d+', '', texts)\n",
    "   return output\n",
    "\n",
    "\n",
    "#\n",
    "\n",
    "def deEmojify(x):\n",
    "    regrex_pattern = re.compile(pattern = \"[\"\n",
    "        u\"\\U0001F600-\\U0001F64F\"  # emoticons\n",
    "        u\"\\U0001F300-\\U0001F5FF\"  # symbols & pictographs\n",
    "        u\"\\U0001F680-\\U0001F6FF\"  # transport & map symbols\n",
    "        u\"\\U0001F1E0-\\U0001F1FF\"  # flags (iOS)\n",
    "                           \"]+\", flags = re.UNICODE)\n",
    "    return regrex_pattern.sub(r'', x)\n",
    "\n",
    "\n",
    "#\n",
    "\n",
    "def unify_whitespaces(x):\n",
    "    cleaned_string = re.sub(' +', ' ', x)\n",
    "    return cleaned_string \n",
    "\n",
    "\n",
    "#\n",
    "\n",
    "def remove_symbols(x):\n",
    "    cleaned_string = re.sub(r\"[^a-zA-Z0-9?!.,]+\", ' ', x)\n",
    "    return cleaned_string\n",
    "\n",
    "#\n",
    "\n",
    "\n",
    "def remove_punctuation(text):\n",
    "    final = \"\".join(u for u in text if u not in (\"?\", \".\", \";\", \":\",  \"!\",'\"',','))\n",
    "    return final\n",
    "\n",
    "\n",
    "\n",
    "#\n",
    "\n",
    "stop=set(stopwords.words(\"english\"))\n",
    "stemmer=PorterStemmer()\n",
    "lemma=WordNetLemmatizer()\n",
    "\n",
    "def remove_stopword(text):\n",
    "   text=[word.lower() for word in text.split() if word.lower() not in stop]\n",
    "   return \" \".join(text)\n",
    "\n",
    "#\n",
    "\n",
    "\n",
    "def Stemming(text):\n",
    "   stem=[]\n",
    "   stopword = stopwords.words('english')\n",
    "   snowball_stemmer = SnowballStemmer('english')\n",
    "   word_tokens = nltk.word_tokenize(text)\n",
    "   stemmed_word = [snowball_stemmer.stem(word) for word in word_tokens]\n",
    "   stem=' '.join(stemmed_word)\n",
    "   return stem\n",
    "\n"
   ]
  },
  {
   "cell_type": "code",
   "execution_count": 144,
   "id": "5fa00d2a",
   "metadata": {},
   "outputs": [],
   "source": [
    "def cleaning(df,review):\n",
    "    df[review] = df[review].apply(clean)\n",
    "    df[review] = df[review].apply(deEmojify)\n",
    "    df[review] = df[review].str.lower()\n",
    "    df[review] = df[review].apply(remove_num)\n",
    "    df[review] = df[review].apply(remove_symbols)\n",
    "    df[review] = df[review].apply(remove_punctuation)\n",
    "    df[review] = df[review].apply(remove_stopword)\n",
    "    df[review] = df[review].apply(unify_whitespaces)\n",
    "    df[review] = df[review].apply(Stemming)"
   ]
  },
  {
   "cell_type": "code",
   "execution_count": 145,
   "id": "28af72e8",
   "metadata": {},
   "outputs": [],
   "source": [
    "\n",
    "cleaning(raw_df,'user_review')\n"
   ]
  },
  {
   "cell_type": "code",
   "execution_count": 146,
   "id": "697fcb03",
   "metadata": {
    "scrolled": false
   },
   "outputs": [
    {
     "name": "stdout",
     "output_type": "stream",
     "text": [
      "start play creativers two year ago start play close halloween play creativers saw ghost leafi confus never seen went kill walk hill saw like okay halloween went tame one brought back workshop name ghosti halloween event sad ghost leafi ghost creatur wish creativers kept ghost creatur great nightim creatur halloween although get close halloween year hope bring back creativers still great game\n",
      "\n",
      "\n",
      "learn curv steep first hrs die non stop mayb happen suck get hang realli enjoy game amaz see good qualiti free play actual fp pay wini play light assault time like jetpack say sure everi class feel differ uniqu gun uniqu even gun differ stat feel differ higbi awesom need good enough rig play upgrad gb ram run smooth much wrongi see peopl complain interact dev guess that kind con dont care much dev interactionsfin word addict\n",
      "\n",
      "\n",
      "lack atmospher kiddi art direct wannab wow graphic hand hold quest sparkl show exact go quest deiti charact background impact charact game play racial bonus super conserv bare even worth think far remov name game simpli hard like get\n",
      "\n",
      "\n",
      "alot peopl say run around cant find anyth call see anim game u actual sneaki patient run aroundi think great game sure requir littl money buck u hunt everi anim u get camo great dealalot peopl say free play right u complet mule deer mision buy shotgun ammo complet rabbit mission buy liscens stop hate dont pay enough attent realis game amaz\n",
      "\n",
      "\n",
      "like super smash brother brawl milllion time better serious easi learn hard master mechina game larg potenti profession play hope master game get lot money could get lot money free buy ign pwn noober hate trolol hahahahahahahahahahhahahahha zyngifi\n",
      "\n",
      "\n",
      "game aid play reason still much contribut get back crash constant time updat bug game time fix crash\n",
      "\n",
      "\n",
      "major time wasteth grind simul requir high amount action everi min order progressi guess wast time actual reward endless cycl type fun play thison play hour day get free epic pack\n",
      "\n",
      "\n",
      "game look good gameplay okay broke along way time went economi becam center loteri bonus random pack game suit tastealso lot weird decis develop made tri help match make system compens diminut player base go detail around thosei also lot time invest game tier list dump close one night unlock casual player look free game never get pass tier unless spend everi night play everi weekend rest life grind bad late tier come back game time time much time invest save time money game around\n",
      "\n",
      "\n",
      "true game premium plane ship tank way assur premium vehicl mean absolut noth talk game effectivenessi talk tank main play game fora far mechan go simpl aim shoot short barrel compens long one get hit proyectil damag crew bad might stand still bit swap whoever still aliv even stand middl nowher get track tire engin hit cannon hit might abl shoot repair itani free tank devast premium one eas hell fast reserv tank kill high level tank realis happen tank most agil even anti tank sometim take stug game drift flank enemi play like also feel realli satisfi one shot enemi realis danger run offi also say two thing first one kind game specif consum made everyon thought made either tri second one first tank encount bother tri drive shoot get much better vehicl\n",
      "\n",
      "\n",
      "went game iv tank everyon els teir v what big deal dmg shot wich mean armor better iv tank happent allot even teir\n",
      "\n",
      "\n"
     ]
    }
   ],
   "source": [
    "for x in raw_df['user_review'].sample(n=10, random_state=1001):\n",
    "    print(x)\n",
    "    print('\\n')"
   ]
  },
  {
   "cell_type": "code",
   "execution_count": 147,
   "id": "5c24decf",
   "metadata": {},
   "outputs": [],
   "source": [
    "raw_df2 = raw_df.copy()\n",
    "\n",
    "\n"
   ]
  },
  {
   "cell_type": "code",
   "execution_count": 148,
   "id": "a03f90b7",
   "metadata": {},
   "outputs": [
    {
     "ename": "NameError",
     "evalue": "name 'Counter' is not defined",
     "output_type": "error",
     "traceback": [
      "\u001b[1;31m---------------------------------------------------------------------------\u001b[0m",
      "\u001b[1;31mNameError\u001b[0m                                 Traceback (most recent call last)",
      "\u001b[1;32m~\\AppData\\Local\\Temp\\ipykernel_9920\\3875833445.py\u001b[0m in \u001b[0;36m<module>\u001b[1;34m\u001b[0m\n\u001b[0;32m      1\u001b[0m \u001b[0mraw_df2\u001b[0m\u001b[1;33m[\u001b[0m\u001b[1;34m'user_review'\u001b[0m\u001b[1;33m]\u001b[0m \u001b[1;33m=\u001b[0m \u001b[0mraw_df2\u001b[0m\u001b[1;33m[\u001b[0m\u001b[1;34m'user_review'\u001b[0m\u001b[1;33m]\u001b[0m\u001b[1;33m.\u001b[0m\u001b[0mapply\u001b[0m\u001b[1;33m(\u001b[0m\u001b[1;32mlambda\u001b[0m \u001b[0mx\u001b[0m\u001b[1;33m:\u001b[0m\u001b[0mstr\u001b[0m\u001b[1;33m(\u001b[0m\u001b[0mx\u001b[0m\u001b[1;33m)\u001b[0m\u001b[1;33m.\u001b[0m\u001b[0msplit\u001b[0m\u001b[1;33m(\u001b[0m\u001b[1;33m)\u001b[0m\u001b[1;33m)\u001b[0m\u001b[1;33m\u001b[0m\u001b[1;33m\u001b[0m\u001b[0m\n\u001b[1;32m----> 2\u001b[1;33m \u001b[0mtop\u001b[0m \u001b[1;33m=\u001b[0m \u001b[0mCounter\u001b[0m\u001b[1;33m(\u001b[0m\u001b[1;33m[\u001b[0m\u001b[0mitem\u001b[0m \u001b[1;32mfor\u001b[0m \u001b[0msublist\u001b[0m \u001b[1;32min\u001b[0m \u001b[0mraw_df2\u001b[0m\u001b[1;33m[\u001b[0m\u001b[1;34m'temp_list'\u001b[0m\u001b[1;33m]\u001b[0m \u001b[1;32mfor\u001b[0m \u001b[0mitem\u001b[0m \u001b[1;32min\u001b[0m \u001b[0msublist\u001b[0m\u001b[1;33m]\u001b[0m\u001b[1;33m)\u001b[0m\u001b[1;33m\u001b[0m\u001b[1;33m\u001b[0m\u001b[0m\n\u001b[0m\u001b[0;32m      3\u001b[0m \u001b[0mtemp\u001b[0m \u001b[1;33m=\u001b[0m \u001b[0mpd\u001b[0m\u001b[1;33m.\u001b[0m\u001b[0mDataFrame\u001b[0m\u001b[1;33m(\u001b[0m\u001b[0mtop\u001b[0m\u001b[1;33m.\u001b[0m\u001b[0mmost_common\u001b[0m\u001b[1;33m(\u001b[0m\u001b[1;36m20\u001b[0m\u001b[1;33m)\u001b[0m\u001b[1;33m)\u001b[0m\u001b[1;33m\u001b[0m\u001b[1;33m\u001b[0m\u001b[0m\n\u001b[0;32m      4\u001b[0m \u001b[0mtemp\u001b[0m\u001b[1;33m.\u001b[0m\u001b[0mcolumns\u001b[0m \u001b[1;33m=\u001b[0m \u001b[1;33m[\u001b[0m\u001b[1;34m'Common_words'\u001b[0m\u001b[1;33m,\u001b[0m\u001b[1;34m'count'\u001b[0m\u001b[1;33m]\u001b[0m\u001b[1;33m\u001b[0m\u001b[1;33m\u001b[0m\u001b[0m\n\u001b[0;32m      5\u001b[0m \u001b[0mtemp\u001b[0m\u001b[1;33m.\u001b[0m\u001b[0mstyle\u001b[0m\u001b[1;33m.\u001b[0m\u001b[0mbackground_gradient\u001b[0m\u001b[1;33m(\u001b[0m\u001b[0mcmap\u001b[0m\u001b[1;33m=\u001b[0m\u001b[1;34m'Blues'\u001b[0m\u001b[1;33m)\u001b[0m\u001b[1;33m\u001b[0m\u001b[1;33m\u001b[0m\u001b[0m\n",
      "\u001b[1;31mNameError\u001b[0m: name 'Counter' is not defined"
     ]
    }
   ],
   "source": [
    "raw_df2['user_review'] = raw_df2['user_review'].apply(lambda x:str(x).split())\n",
    "top = Counter([item for sublist in raw_df2['temp_list'] for item in sublist])\n",
    "temp = pd.DataFrame(top.most_common(20))\n",
    "temp.columns = ['Common_words','count']\n",
    "temp.style.background_gradient(cmap='Blues')\n"
   ]
  },
  {
   "cell_type": "code",
   "execution_count": null,
   "id": "6ae1f348",
   "metadata": {},
   "outputs": [],
   "source": []
  },
  {
   "cell_type": "code",
   "execution_count": null,
   "id": "726b9c30",
   "metadata": {},
   "outputs": [],
   "source": []
  },
  {
   "cell_type": "code",
   "execution_count": null,
   "id": "8a72737b",
   "metadata": {},
   "outputs": [],
   "source": []
  },
  {
   "cell_type": "code",
   "execution_count": null,
   "id": "af98bba3",
   "metadata": {},
   "outputs": [],
   "source": []
  },
  {
   "cell_type": "code",
   "execution_count": null,
   "id": "b35478a8",
   "metadata": {},
   "outputs": [],
   "source": []
  },
  {
   "cell_type": "code",
   "execution_count": null,
   "id": "818c52ba",
   "metadata": {},
   "outputs": [],
   "source": []
  },
  {
   "cell_type": "code",
   "execution_count": null,
   "id": "9fdbe52c",
   "metadata": {},
   "outputs": [],
   "source": []
  },
  {
   "cell_type": "code",
   "execution_count": null,
   "id": "6aacc084",
   "metadata": {},
   "outputs": [],
   "source": []
  },
  {
   "cell_type": "code",
   "execution_count": null,
   "id": "b8ab22c2",
   "metadata": {},
   "outputs": [],
   "source": []
  },
  {
   "cell_type": "code",
   "execution_count": null,
   "id": "4c55dcb5",
   "metadata": {},
   "outputs": [],
   "source": []
  },
  {
   "cell_type": "code",
   "execution_count": null,
   "id": "3db81b55",
   "metadata": {},
   "outputs": [],
   "source": []
  },
  {
   "cell_type": "code",
   "execution_count": null,
   "id": "73008be9",
   "metadata": {},
   "outputs": [],
   "source": []
  },
  {
   "cell_type": "code",
   "execution_count": null,
   "id": "d8137437",
   "metadata": {},
   "outputs": [],
   "source": []
  },
  {
   "cell_type": "code",
   "execution_count": null,
   "id": "c43e8a7d",
   "metadata": {},
   "outputs": [],
   "source": []
  },
  {
   "cell_type": "code",
   "execution_count": null,
   "id": "edd3f0e7",
   "metadata": {},
   "outputs": [],
   "source": []
  },
  {
   "cell_type": "markdown",
   "id": "13ff93ee",
   "metadata": {},
   "source": [
    "------------------------------------------------------------------------------------------------------------------------------"
   ]
  },
  {
   "cell_type": "markdown",
   "id": "3c655f3a",
   "metadata": {},
   "source": [
    "# Summary and Next Steps:\n",
    "<a id='7'></a>\n",
    "[Return to Top](#ReturntoTop)\n",
    "\n",
    "**From the Preliminary EDA we found the following out and completed the following tasks for our dataset:**\n",
    "- This is a relatively small data set with only ~17,000 reviews\n",
    "- There are 44 unique video game titles with multiple reviews for each. Each review also logs an overall (binary) recommendation.\n",
    "- There where no duplicate or missing values and no data imputation was required\n",
    "- Of the reviews we noted that some have non-english words and symbols.\n",
    "- There are a few data imbalances in our data\n",
    "    - There are more overall positive reviews than negative reviews\n",
    "    - There are varying amounts of reviews by each title\n",
    "    - There are varying amounts of positive and negative reviews within each title (some are highly positive and others are highly negative)\n",
    "- Generally speaking, the games are mostly positively reviewed (assuming positive percentage greater than 50%)\n",
    "\n",
    "\n",
    "**Next Steps: (Data Cleaning and Prep)**\n",
    "- Firstly we will need to remove non-english reviews\n",
    "    - re-evaluate the amount of data we have and the distribution between positive and negative reviews after this\n",
    "- Determine if we will employ methods to reduce data imbalances (ex: Under vs Over Sampling, Class weighting, Data Augmentation\n",
    "\n",
    "    "
   ]
  },
  {
   "cell_type": "markdown",
   "id": "81c183d0",
   "metadata": {},
   "source": [
    "### Next steps are located in the Second Notebook - '2.0_DataCleaning_and_Prep'"
   ]
  }
 ],
 "metadata": {
  "kernelspec": {
   "display_name": "baseclone",
   "language": "python",
   "name": "baseclone"
  },
  "language_info": {
   "codemirror_mode": {
    "name": "ipython",
    "version": 3
   },
   "file_extension": ".py",
   "mimetype": "text/x-python",
   "name": "python",
   "nbconvert_exporter": "python",
   "pygments_lexer": "ipython3",
   "version": "3.9.13"
  }
 },
 "nbformat": 4,
 "nbformat_minor": 5
}
