{
 "cells": [
  {
   "cell_type": "markdown",
   "id": "0efce392",
   "metadata": {},
   "source": [
    "<a id='ReturntoTop'></a>\n",
    "\n",
    "\n",
    "<header>\n",
    "  <div style=\"display:flex; align-items:center;\">\n",
    "    <div style=\"flex-grow:1;\">\n",
    "      <h1>NLP with Steam Video Game Reviews</h1>\n",
    "      <h3>Notebook 3 - Data Splitting and Tokenization </h3>\n",
    "      <p>Author: David Lappin | Date: 5/12/2023 - */**/2023 </p>\n",
    "    </div>\n",
    "    <img src=\"bannerphoto/banner.jpg\" alt=\"your-image-description\" style=\"height:225px; margin-left:50px; border: 8px solid black;border-radius: 5%;\">\n",
    "  </div>\n",
    "</header>"
   ]
  },
  {
   "cell_type": "markdown",
   "id": "ccd8561b",
   "metadata": {},
   "source": [
    "------------------------------------------------------------------------------------------------------------------------------"
   ]
  },
  {
   "cell_type": "markdown",
   "id": "91443a5c",
   "metadata": {},
   "source": [
    "# Introduction and Purpose"
   ]
  },
  {
   "cell_type": "markdown",
   "id": "48089cab",
   "metadata": {},
   "source": [
    "\n"
   ]
  },
  {
   "cell_type": "markdown",
   "id": "277da2b3",
   "metadata": {},
   "source": [
    "# Table of Contents"
   ]
  },
  {
   "cell_type": "markdown",
   "id": "40c1c188",
   "metadata": {},
   "source": [
    "[Packages Import](#1)\n",
    "\n",
    "[Data Import](#2)\n",
    "\n",
    "[Blank](#3)\n",
    "\n",
    "[Blank](#4)\n",
    "\n",
    "[Blank](#5)\n"
   ]
  },
  {
   "cell_type": "markdown",
   "id": "106e26da",
   "metadata": {},
   "source": [
    "# Packages Import\n",
    "<a id='1'></a>\n",
    "[Return to Top](#ReturntoTop)"
   ]
  },
  {
   "cell_type": "markdown",
   "id": "07cf3a76",
   "metadata": {},
   "source": [
    "**Matplotlib** - Used as needed for basic visualizations\n",
    "\n",
    "**Numpy** - Supports large, multi-dimensional arrays and matrices,and contains a large collection of high-level mathematical functions to operate on these arrays.\n",
    "\n",
    "**Pandas** - Additional data manipulation and analysis\n",
    "\n",
    "**sklearn** - machine learning library\n",
    "\n",
    "**seaborn** - graphing and visualization package\n",
    "\n",
    "**train_test_split** - used to split data set into training/validation/and testing sets\n",
    "\n",
    "\n"
   ]
  },
  {
   "cell_type": "code",
   "execution_count": 29,
   "id": "39df84fc",
   "metadata": {},
   "outputs": [],
   "source": [
    "import matplotlib.pyplot as plt\n",
    "import numpy as np\n",
    "import pandas as pd\n",
    "import seaborn as sns\n",
    "import sklearn.metrics as sk_metrics\n",
    "\n",
    "\n",
    "#tokenization and splitting\n",
    "from sklearn.model_selection import train_test_split\n",
    "\n",
    "#processing\n",
    "from sklearn.model_selection import train_test_split\n",
    "from sklearn.preprocessing import StandardScaler\n",
    "from sklearn.metrics import confusion_matrix, ConfusionMatrixDisplay\n",
    "from sklearn.metrics import classification_report\n",
    "\n",
    "\n",
    "#modelling\n",
    "from sklearn.linear_model import LogisticRegression\n",
    "from sklearn.neighbors import KNeighborsClassifier\n",
    "from sklearn.tree import DecisionTreeClassifier\n",
    "\n",
    "\n",
    "#optimization \n",
    "from sklearn.decomposition import PCA\n",
    "from sklearn.model_selection import cross_val_score\n",
    "\n",
    "\n",
    "#misc\n",
    "import warnings\n",
    "from sklearn.exceptions import ConvergenceWarning\n",
    "\n",
    "# Filter out ConvergenceWarning \n",
    "warnings.filterwarnings(\"ignore\", category=ConvergenceWarning)"
   ]
  },
  {
   "cell_type": "markdown",
   "id": "f1f2512e",
   "metadata": {},
   "source": [
    "# Data Import\n",
    "[Return to Top](#ReturntoTop)\n",
    "<a id='2'></a>\n",
    "\n",
    "Import the reviews csv and explore some of the data within:"
   ]
  },
  {
   "cell_type": "code",
   "execution_count": 4,
   "id": "cbd6ca58",
   "metadata": {},
   "outputs": [
    {
     "name": "stdout",
     "output_type": "stream",
     "text": [
      "<class 'pandas.core.frame.DataFrame'>\n",
      "RangeIndex: 10584 entries, 0 to 10583\n",
      "Columns: 1046 entries, user_suggestion to yu\n",
      "dtypes: int64(1046)\n",
      "memory usage: 84.5 MB\n"
     ]
    }
   ],
   "source": [
    "#import data\n",
    "\n",
    "train_df = pd.read_csv('data/train_df.csv')\n",
    "train_df.info()"
   ]
  },
  {
   "cell_type": "markdown",
   "id": "d1718d7d",
   "metadata": {},
   "source": [
    "Data set is the same dimensions as before. Let's just look at the first few rows:"
   ]
  },
  {
   "cell_type": "code",
   "execution_count": 6,
   "id": "075fb338",
   "metadata": {},
   "outputs": [
    {
     "data": {
      "text/html": [
       "<div>\n",
       "<style scoped>\n",
       "    .dataframe tbody tr th:only-of-type {\n",
       "        vertical-align: middle;\n",
       "    }\n",
       "\n",
       "    .dataframe tbody tr th {\n",
       "        vertical-align: top;\n",
       "    }\n",
       "\n",
       "    .dataframe thead th {\n",
       "        text-align: right;\n",
       "    }\n",
       "</style>\n",
       "<table border=\"1\" class=\"dataframe\">\n",
       "  <thead>\n",
       "    <tr style=\"text-align: right;\">\n",
       "      <th></th>\n",
       "      <th>user_suggestion</th>\n",
       "      <th>abilities</th>\n",
       "      <th>ability</th>\n",
       "      <th>able</th>\n",
       "      <th>absolute</th>\n",
       "      <th>absolutely</th>\n",
       "      <th>access</th>\n",
       "      <th>account</th>\n",
       "      <th>across</th>\n",
       "      <th>action</th>\n",
       "      <th>...</th>\n",
       "      <th>wrong</th>\n",
       "      <th>ww</th>\n",
       "      <th>xp</th>\n",
       "      <th>yeah</th>\n",
       "      <th>year</th>\n",
       "      <th>years</th>\n",
       "      <th>yes</th>\n",
       "      <th>yet</th>\n",
       "      <th>youtube</th>\n",
       "      <th>yu</th>\n",
       "    </tr>\n",
       "  </thead>\n",
       "  <tbody>\n",
       "    <tr>\n",
       "      <th>0</th>\n",
       "      <td>1</td>\n",
       "      <td>0</td>\n",
       "      <td>0</td>\n",
       "      <td>0</td>\n",
       "      <td>0</td>\n",
       "      <td>0</td>\n",
       "      <td>0</td>\n",
       "      <td>0</td>\n",
       "      <td>0</td>\n",
       "      <td>0</td>\n",
       "      <td>...</td>\n",
       "      <td>0</td>\n",
       "      <td>0</td>\n",
       "      <td>0</td>\n",
       "      <td>0</td>\n",
       "      <td>0</td>\n",
       "      <td>0</td>\n",
       "      <td>1</td>\n",
       "      <td>0</td>\n",
       "      <td>0</td>\n",
       "      <td>0</td>\n",
       "    </tr>\n",
       "    <tr>\n",
       "      <th>1</th>\n",
       "      <td>1</td>\n",
       "      <td>0</td>\n",
       "      <td>0</td>\n",
       "      <td>0</td>\n",
       "      <td>0</td>\n",
       "      <td>0</td>\n",
       "      <td>0</td>\n",
       "      <td>0</td>\n",
       "      <td>0</td>\n",
       "      <td>0</td>\n",
       "      <td>...</td>\n",
       "      <td>0</td>\n",
       "      <td>0</td>\n",
       "      <td>0</td>\n",
       "      <td>0</td>\n",
       "      <td>0</td>\n",
       "      <td>0</td>\n",
       "      <td>0</td>\n",
       "      <td>0</td>\n",
       "      <td>0</td>\n",
       "      <td>0</td>\n",
       "    </tr>\n",
       "    <tr>\n",
       "      <th>2</th>\n",
       "      <td>1</td>\n",
       "      <td>0</td>\n",
       "      <td>0</td>\n",
       "      <td>0</td>\n",
       "      <td>0</td>\n",
       "      <td>0</td>\n",
       "      <td>0</td>\n",
       "      <td>0</td>\n",
       "      <td>0</td>\n",
       "      <td>0</td>\n",
       "      <td>...</td>\n",
       "      <td>0</td>\n",
       "      <td>0</td>\n",
       "      <td>0</td>\n",
       "      <td>0</td>\n",
       "      <td>0</td>\n",
       "      <td>0</td>\n",
       "      <td>0</td>\n",
       "      <td>0</td>\n",
       "      <td>0</td>\n",
       "      <td>0</td>\n",
       "    </tr>\n",
       "    <tr>\n",
       "      <th>3</th>\n",
       "      <td>0</td>\n",
       "      <td>0</td>\n",
       "      <td>0</td>\n",
       "      <td>0</td>\n",
       "      <td>0</td>\n",
       "      <td>0</td>\n",
       "      <td>0</td>\n",
       "      <td>0</td>\n",
       "      <td>0</td>\n",
       "      <td>0</td>\n",
       "      <td>...</td>\n",
       "      <td>0</td>\n",
       "      <td>0</td>\n",
       "      <td>0</td>\n",
       "      <td>0</td>\n",
       "      <td>0</td>\n",
       "      <td>0</td>\n",
       "      <td>0</td>\n",
       "      <td>0</td>\n",
       "      <td>0</td>\n",
       "      <td>0</td>\n",
       "    </tr>\n",
       "    <tr>\n",
       "      <th>4</th>\n",
       "      <td>1</td>\n",
       "      <td>0</td>\n",
       "      <td>0</td>\n",
       "      <td>0</td>\n",
       "      <td>0</td>\n",
       "      <td>0</td>\n",
       "      <td>0</td>\n",
       "      <td>0</td>\n",
       "      <td>0</td>\n",
       "      <td>0</td>\n",
       "      <td>...</td>\n",
       "      <td>0</td>\n",
       "      <td>0</td>\n",
       "      <td>0</td>\n",
       "      <td>0</td>\n",
       "      <td>0</td>\n",
       "      <td>0</td>\n",
       "      <td>0</td>\n",
       "      <td>0</td>\n",
       "      <td>0</td>\n",
       "      <td>0</td>\n",
       "    </tr>\n",
       "  </tbody>\n",
       "</table>\n",
       "<p>5 rows × 1046 columns</p>\n",
       "</div>"
      ],
      "text/plain": [
       "   user_suggestion  abilities  ability  able  absolute  absolutely  access  \\\n",
       "0                1          0        0     0         0           0       0   \n",
       "1                1          0        0     0         0           0       0   \n",
       "2                1          0        0     0         0           0       0   \n",
       "3                0          0        0     0         0           0       0   \n",
       "4                1          0        0     0         0           0       0   \n",
       "\n",
       "   account  across  action  ...  wrong  ww  xp  yeah  year  years  yes  yet  \\\n",
       "0        0       0       0  ...      0   0   0     0     0      0    1    0   \n",
       "1        0       0       0  ...      0   0   0     0     0      0    0    0   \n",
       "2        0       0       0  ...      0   0   0     0     0      0    0    0   \n",
       "3        0       0       0  ...      0   0   0     0     0      0    0    0   \n",
       "4        0       0       0  ...      0   0   0     0     0      0    0    0   \n",
       "\n",
       "   youtube  yu  \n",
       "0        0   0  \n",
       "1        0   0  \n",
       "2        0   0  \n",
       "3        0   0  \n",
       "4        0   0  \n",
       "\n",
       "[5 rows x 1046 columns]"
      ]
     },
     "execution_count": 6,
     "metadata": {},
     "output_type": "execute_result"
    }
   ],
   "source": [
    "train_df.head(5)"
   ]
  },
  {
   "cell_type": "markdown",
   "id": "61473032",
   "metadata": {},
   "source": [
    "Everything looks good we can move on to splitting the training set into training and validation data and then begin with some baseline models:"
   ]
  },
  {
   "cell_type": "markdown",
   "id": "357bddb7",
   "metadata": {},
   "source": [
    "# Logistic Regression\n",
    "<a id='pt1'></a>\n",
    "[Return to Top](#ReturntoTop)\n",
    "\n",
    "Lets start by running a classic and simpler model. Logistic regression is well suited for binary classification problems such as sentiment analysis and will be a simple and computationally efficient method to start off with. We will split the data and then start."
   ]
  },
  {
   "cell_type": "code",
   "execution_count": 8,
   "id": "11d84c76",
   "metadata": {},
   "outputs": [],
   "source": [
    "# store data in X and y\n",
    "\n",
    "#all rows or tokens not including the target variable \n",
    "X = train_df.loc[:, train_df.columns != 'user_suggestion']\n",
    "\n",
    "#user suggestion is the target variable \n",
    "y = train_df['user_suggestion']"
   ]
  },
  {
   "cell_type": "code",
   "execution_count": 10,
   "id": "9db5aa97",
   "metadata": {},
   "outputs": [],
   "source": [
    "#Split out 20 percent of the data to validation set and maintain the rest in the train set\n",
    "\n",
    "X_train, X_val, y_train, y_val = train_test_split(X, y, test_size=0.2, stratify = train_df['user_suggestion'], random_state=7)"
   ]
  },
  {
   "cell_type": "markdown",
   "id": "86f6b5ac",
   "metadata": {},
   "source": [
    "We can confirm once again that the data was stratified correctly:"
   ]
  },
  {
   "cell_type": "code",
   "execution_count": 22,
   "id": "7f8f7dc9",
   "metadata": {},
   "outputs": [
    {
     "name": "stdout",
     "output_type": "stream",
     "text": [
      "The negative to positive ratio for the unsplit data is: 0.76136\n",
      "\n",
      "\n",
      "The negative to positive ratio for the train split is: 0.76139\n",
      "\n",
      "\n",
      "The negative to positive ratio for the test split is: 0.76123\n"
     ]
    }
   ],
   "source": [
    "#unsplit data\n",
    "\n",
    "print(f\"The negative to positive ratio for the unsplit data is: {round((len(train_df['user_suggestion']) - train_df['user_suggestion'].sum()) / train_df['user_suggestion'].sum(), 5)}\")\n",
    "print('\\n')\n",
    "\n",
    "#train set split\n",
    "\n",
    "print(f\"The negative to positive ratio for the train split is: {round((len(y_train) - y_train.sum()) / y_train.sum(), 5)}\") \n",
    "print('\\n')\n",
    "\n",
    "#test set split\n",
    "\n",
    "print(f\"The negative to positive ratio for the test split is: {round((len(y_val) - y_val.sum()) / y_val.sum(), 5)}\") \n"
   ]
  },
  {
   "cell_type": "markdown",
   "id": "79db2cc3",
   "metadata": {},
   "source": [
    "### Observations:\n",
    "\n",
    "Looks like everything worked and the ratio of positive to negative reviews has been preserved in both the training and the validation splits. \n",
    "\n",
    "Let's instantiate and split our first model:\n",
    "\n",
    "**Note:** We will start with a relatively low max iteration value and we can increase this with further optimization in the future if desired."
   ]
  },
  {
   "cell_type": "code",
   "execution_count": 60,
   "id": "c963cd56",
   "metadata": {},
   "outputs": [
    {
     "name": "stdout",
     "output_type": "stream",
     "text": [
      "Train score: 0.8367780796031652\n",
      "Validation score: 0.8238072744449693\n"
     ]
    }
   ],
   "source": [
    "# Instantiate a model\n",
    "logreg = LogisticRegression(solver = 'lbfgs', max_iter = 10) \n",
    "\n",
    "#Fit the model\n",
    "logreg.fit(X_train, y_train)\n",
    "    \n",
    "# Training and test score\n",
    "print(f\"Train score: {logreg.score(X_train, y_train)}\")\n",
    "print(f\"Validation score: {logreg.score(X_val, y_val)}\")"
   ]
  },
  {
   "cell_type": "markdown",
   "id": "41a23cce",
   "metadata": {},
   "source": [
    "### Observations\n",
    "\n",
    "With a pretty simple model we were able to achieve  "
   ]
  },
  {
   "cell_type": "code",
   "execution_count": 50,
   "id": "c2676cd2",
   "metadata": {},
   "outputs": [],
   "source": [
    "#determine optimal value for max_iter. Note this may take a moment to run\n",
    "\n",
    "train_acc = []\n",
    "val_acc = []\n",
    "\n",
    "for i in np.arange(0, 100, 2):\n",
    "\n",
    "# Fitting a model\n",
    "    logreg = LogisticRegression(solver = 'lbfgs', max_iter = i) \n",
    "    logreg.fit(X_train, y_train)\n",
    "    \n",
    "    train_acc.append(logreg.score(X_train, y_train))\n",
    "    val_acc.append(logreg.score(X_val, y_val))"
   ]
  },
  {
   "cell_type": "code",
   "execution_count": 56,
   "id": "60d1d21d",
   "metadata": {},
   "outputs": [
    {
     "data": {
      "image/png": "[encoded data removed]",
      "text/plain": [
       "<Figure size 640x480 with 1 Axes>"
      ]
     },
     "metadata": {},
     "output_type": "display_data"
    }
   ],
   "source": [
    "#plot the testing accuracies for the different max_iter values\n",
    "\n",
    "xvals = np.arange(0, 100, 2) #original range of max_iter values\n",
    "\n",
    "#plot\n",
    "plt.figure()\n",
    "plt.plot(xvals, train_acc, label = 'Train')\n",
    "plt.plot(xvals, val_acc, label = 'Validation')\n",
    "plt.axvline(10, color = 'black', label = '10 max_iter', linewidth = 0.5, linestyle = '--')\n",
    "plt.xlabel('Max_iter Value')\n",
    "plt.ylabel('Accuracy')\n",
    "plt.title('Test vs. Training Accuracy for Different max_iter Values')\n",
    "plt.legend() \n",
    "plt.show()"
   ]
  },
  {
   "cell_type": "code",
   "execution_count": 57,
   "id": "e4b0b48f",
   "metadata": {},
   "outputs": [],
   "source": [
    "test_df = pd.read_csv('data/test_df.csv')"
   ]
  },
  {
   "cell_type": "code",
   "execution_count": 64,
   "id": "4182252e",
   "metadata": {},
   "outputs": [],
   "source": [
    "#all rows or tokens not including the target variable \n",
    "X_test = test_df.loc[:, test_df.columns != 'user_suggestion']\n",
    "\n",
    "#user suggestion is the target variable \n",
    "y_test = test_df['user_suggestion']"
   ]
  },
  {
   "cell_type": "code",
   "execution_count": 65,
   "id": "5c7868d4",
   "metadata": {},
   "outputs": [
    {
     "name": "stdout",
     "output_type": "stream",
     "text": [
      "Validation score: 0.8071367884451996\n"
     ]
    }
   ],
   "source": [
    "print(f\"Test score: {logreg.score(X_test, y_test)}\")"
   ]
  },
  {
   "cell_type": "code",
   "execution_count": null,
   "id": "c1d6e973",
   "metadata": {},
   "outputs": [],
   "source": []
  },
  {
   "cell_type": "markdown",
   "id": "13ff93ee",
   "metadata": {},
   "source": [
    "------------------------------------------------------------------------------------------------------------------------------"
   ]
  },
  {
   "cell_type": "markdown",
   "id": "3c655f3a",
   "metadata": {},
   "source": [
    "# Summary and Next Steps:\n",
    "<a id='7'></a>\n",
    "[Return to Top](#ReturntoTop)\n",
    "\n",
    "**From the Data Splitting and Tokenization we found the following out and completed the following tasks for our dataset:**\n",
    "- Utilized the cleaning tools from the previous notebook to clean our data set\n",
    "- Tokenized our data set using a BoW model. Used a `min_df` of 0.01 to remove tokens that were present in less than 1% of reviews. This helped to reduce our dimensionality. \n",
    " \n",
    "\n",
    "**Next Steps: (Baseline Modeling)**\n",
    "- Next we will explore various modeling techniques and evaluate some of the best options for predicting sentiment analysis in this data set\n",
    "\n",
    "    "
   ]
  },
  {
   "cell_type": "markdown",
   "id": "81c183d0",
   "metadata": {},
   "source": [
    "### Next steps are located in the Third Notebook - '4.0_Baseline_Modeling'"
   ]
  }
 ],
 "metadata": {
  "kernelspec": {
   "display_name": "baseclone",
   "language": "python",
   "name": "baseclone"
  },
  "language_info": {
   "codemirror_mode": {
    "name": "ipython",
    "version": 3
   },
   "file_extension": ".py",
   "mimetype": "text/x-python",
   "name": "python",
   "nbconvert_exporter": "python",
   "pygments_lexer": "ipython3",
   "version": "3.9.13"
  }
 },
 "nbformat": 4,
 "nbformat_minor": 5
}
