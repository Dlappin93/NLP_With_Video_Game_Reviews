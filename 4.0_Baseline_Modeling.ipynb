{
 "cells": [
  {
   "cell_type": "markdown",
   "id": "0efce392",
   "metadata": {},
   "source": [
    "<a id='ReturntoTop'></a>\n",
    "\n",
    "\n",
    "<header>\n",
    "  <div style=\"display:flex; align-items:center;\">\n",
    "    <div style=\"flex-grow:1;\">\n",
    "      <h1>NLP with Steam Video Game Reviews</h1>\n",
    "      <h3>Notebook 3 - Data Splitting and Tokenization </h3>\n",
    "      <p>Author: David Lappin | Date: 5/12/2023 - */**/2023 </p>\n",
    "    </div>\n",
    "    <img src=\"bannerphoto/banner.jpg\" alt=\"your-image-description\" style=\"height:225px; margin-left:50px; border: 8px solid black;border-radius: 5%;\">\n",
    "  </div>\n",
    "</header>"
   ]
  },
  {
   "cell_type": "markdown",
   "id": "ccd8561b",
   "metadata": {},
   "source": [
    "------------------------------------------------------------------------------------------------------------------------------"
   ]
  },
  {
   "cell_type": "markdown",
   "id": "91443a5c",
   "metadata": {},
   "source": [
    "# Introduction and Purpose"
   ]
  },
  {
   "cell_type": "markdown",
   "id": "48089cab",
   "metadata": {},
   "source": [
    "\n"
   ]
  },
  {
   "cell_type": "markdown",
   "id": "277da2b3",
   "metadata": {},
   "source": [
    "# Table of Contents"
   ]
  },
  {
   "cell_type": "markdown",
   "id": "40c1c188",
   "metadata": {},
   "source": [
    "[Packages Import](#1)\n",
    "\n",
    "[Data Import](#2)\n",
    "\n",
    "[Blank](#3)\n",
    "\n",
    "[Blank](#4)\n",
    "\n",
    "[Blank](#5)\n"
   ]
  },
  {
   "cell_type": "markdown",
   "id": "106e26da",
   "metadata": {},
   "source": [
    "# Packages Import\n",
    "<a id='1'></a>\n",
    "[Return to Top](#ReturntoTop)"
   ]
  },
  {
   "cell_type": "markdown",
   "id": "07cf3a76",
   "metadata": {},
   "source": [
    "**Matplotlib** - Used as needed for basic visualizations\n",
    "\n",
    "**Numpy** - Supports large, multi-dimensional arrays and matrices,and contains a large collection of high-level mathematical functions to operate on these arrays.\n",
    "\n",
    "**Pandas** - Additional data manipulation and analysis\n",
    "\n",
    "**sklearn** - machine learning library\n",
    "\n",
    "**seaborn** - graphing and visualization package\n",
    "\n",
    "**nltk.corpus stopwords** - allows for the removal of english stop words (a, an, am, for....ect) in the user reviews\n",
    "\n",
    "**nltk.stem PorterStemmer** - removing the commoner morphological and inflexional endings from words in English. \n",
    "\n",
    "**nltk WordNetLemmatizer** - reduces a word to its base or dictionary form\n",
    "\n",
    "**re** - regex expression support\n",
    "\n",
    "**nltk.stem SnowballStemmer** - reduces a word to its base or dictionary form\n",
    "\n",
    "**train_test_split** - used to split data set into training/validation/and testing sets\n",
    "\n",
    "**CountVectorizer** - used to created bag of words model and fit it to the reviews column\n"
   ]
  },
  {
   "cell_type": "code",
   "execution_count": 30,
   "id": "39df84fc",
   "metadata": {},
   "outputs": [],
   "source": [
    "import matplotlib.pyplot as plt\n",
    "import numpy as np\n",
    "import pandas as pd\n",
    "import seaborn as sns\n",
    "import sklearn.metrics as sk_metrics\n",
    "\n",
    "#text cleaning \n",
    "import re\n",
    "import nltk\n",
    "from nltk.corpus import stopwords\n",
    "from nltk.stem import PorterStemmer\n",
    "from nltk import WordNetLemmatizer\n",
    "from nltk.stem import SnowballStemmer\n",
    "\n",
    "#tokenization and splitting\n",
    "from sklearn.model_selection import train_test_split\n",
    "from sklearn.feature_extraction.text import CountVectorizer"
   ]
  },
  {
   "cell_type": "markdown",
   "id": "f1f2512e",
   "metadata": {},
   "source": [
    "# Data Import\n",
    "[Return to Top](#ReturntoTop)\n",
    "<a id='2'></a>\n",
    "\n",
    "Import the reviews csv and explore some of the data within:"
   ]
  },
  {
   "cell_type": "code",
   "execution_count": null,
   "id": "6132e87f",
   "metadata": {},
   "outputs": [],
   "source": []
  },
  {
   "cell_type": "code",
   "execution_count": null,
   "id": "4d11c950",
   "metadata": {},
   "outputs": [],
   "source": []
  },
  {
   "cell_type": "code",
   "execution_count": null,
   "id": "734a725e",
   "metadata": {},
   "outputs": [],
   "source": []
  },
  {
   "cell_type": "code",
   "execution_count": null,
   "id": "2d225d20",
   "metadata": {},
   "outputs": [],
   "source": []
  },
  {
   "cell_type": "code",
   "execution_count": null,
   "id": "cd477f29",
   "metadata": {},
   "outputs": [],
   "source": []
  },
  {
   "cell_type": "code",
   "execution_count": null,
   "id": "107cfb33",
   "metadata": {},
   "outputs": [],
   "source": []
  },
  {
   "cell_type": "code",
   "execution_count": null,
   "id": "7bda281c",
   "metadata": {},
   "outputs": [],
   "source": []
  },
  {
   "cell_type": "code",
   "execution_count": null,
   "id": "8ee28fd6",
   "metadata": {},
   "outputs": [],
   "source": []
  },
  {
   "cell_type": "code",
   "execution_count": null,
   "id": "7c1babfc",
   "metadata": {},
   "outputs": [],
   "source": []
  },
  {
   "cell_type": "code",
   "execution_count": null,
   "id": "7e525d78",
   "metadata": {},
   "outputs": [],
   "source": []
  },
  {
   "cell_type": "code",
   "execution_count": null,
   "id": "68af25b2",
   "metadata": {},
   "outputs": [],
   "source": []
  },
  {
   "cell_type": "code",
   "execution_count": null,
   "id": "49b27012",
   "metadata": {},
   "outputs": [],
   "source": []
  },
  {
   "cell_type": "code",
   "execution_count": null,
   "id": "752308b5",
   "metadata": {},
   "outputs": [],
   "source": []
  },
  {
   "cell_type": "code",
   "execution_count": null,
   "id": "2c234264",
   "metadata": {},
   "outputs": [],
   "source": []
  },
  {
   "cell_type": "code",
   "execution_count": null,
   "id": "edf9faf7",
   "metadata": {},
   "outputs": [],
   "source": []
  },
  {
   "cell_type": "code",
   "execution_count": null,
   "id": "5b1a2430",
   "metadata": {},
   "outputs": [],
   "source": []
  },
  {
   "cell_type": "code",
   "execution_count": null,
   "id": "16c7b17b",
   "metadata": {},
   "outputs": [],
   "source": []
  },
  {
   "cell_type": "code",
   "execution_count": null,
   "id": "f6924d5f",
   "metadata": {},
   "outputs": [],
   "source": []
  },
  {
   "cell_type": "code",
   "execution_count": null,
   "id": "ad5560d5",
   "metadata": {},
   "outputs": [],
   "source": []
  },
  {
   "cell_type": "code",
   "execution_count": null,
   "id": "da5180b4",
   "metadata": {},
   "outputs": [],
   "source": []
  },
  {
   "cell_type": "code",
   "execution_count": null,
   "id": "72cc3af1",
   "metadata": {},
   "outputs": [],
   "source": []
  },
  {
   "cell_type": "markdown",
   "id": "13ff93ee",
   "metadata": {},
   "source": [
    "------------------------------------------------------------------------------------------------------------------------------"
   ]
  },
  {
   "cell_type": "markdown",
   "id": "3c655f3a",
   "metadata": {},
   "source": [
    "# Summary and Next Steps:\n",
    "<a id='7'></a>\n",
    "[Return to Top](#ReturntoTop)\n",
    "\n",
    "**From the Data Splitting and Tokenization we found the following out and completed the following tasks for our dataset:**\n",
    "- Utilized the cleaning tools from the previous notebook to clean our data set\n",
    "- Tokenized our data set using a BoW model. Used a `min_df` of 0.01 to remove tokens that were present in less than 1% of reviews. This helped to reduce our dimensionality. \n",
    " \n",
    "\n",
    "**Next Steps: (Baseline Modeling)**\n",
    "- Next we will explore various modeling techniques and evaluate some of the best options for predicting sentiment analysis in this data set\n",
    "\n",
    "    "
   ]
  },
  {
   "cell_type": "markdown",
   "id": "81c183d0",
   "metadata": {},
   "source": [
    "### Next steps are located in the Third Notebook - '4.0_Baseline_Modeling'"
   ]
  }
 ],
 "metadata": {
  "kernelspec": {
   "display_name": "baseclone",
   "language": "python",
   "name": "baseclone"
  },
  "language_info": {
   "codemirror_mode": {
    "name": "ipython",
    "version": 3
   },
   "file_extension": ".py",
   "mimetype": "text/x-python",
   "name": "python",
   "nbconvert_exporter": "python",
   "pygments_lexer": "ipython3",
   "version": "3.9.13"
  }
 },
 "nbformat": 4,
 "nbformat_minor": 5
}
